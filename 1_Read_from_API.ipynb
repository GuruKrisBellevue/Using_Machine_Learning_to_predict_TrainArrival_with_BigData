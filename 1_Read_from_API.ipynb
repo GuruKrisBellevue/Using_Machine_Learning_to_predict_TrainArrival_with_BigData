{
 "cells": [
  {
   "cell_type": "markdown",
   "id": "830d495b-2d9a-468a-bdba-c74c7e0a2e17",
   "metadata": {},
   "source": [
    "### Reading from CTA API"
   ]
  },
  {
   "cell_type": "code",
   "execution_count": 1,
   "id": "8d678bfe-0b3e-4f80-925a-3027e4a54655",
   "metadata": {},
   "outputs": [],
   "source": [
    "# Loading the libraries\n",
    "import pandas as pd\n",
    "import numpy as np\n",
    "import os\n",
    "import re\n",
    "import datetime\n",
    "import requests\n",
    "import json\n",
    "import urllib3\n",
    "import urllib.request,urllib.parse,urllib.error\n",
    "from apscheduler.schedulers.background import BlockingScheduler"
   ]
  },
  {
   "cell_type": "code",
   "execution_count": 2,
   "id": "ed8808f9-d982-4e08-a3c8-26f0ef3e673a",
   "metadata": {},
   "outputs": [],
   "source": [
    "# Getting the current working directory\n",
    "key_path=os.getcwd()\n",
    "# Extracting the cta key from the json file created in the step above\n",
    "with open(\"cta_key.json\",\"r\") as cta_key_file:\n",
    "    json_key_cta=json.load(cta_key_file)\n",
    "    # Reading the Key1 variable that contains the cta key\n",
    "    cta_key=json_key_cta['key1']"
   ]
  },
  {
   "cell_type": "code",
   "execution_count": 3,
   "id": "b2a08f89-0ae4-4c4f-8e1f-1d5613ee9c51",
   "metadata": {},
   "outputs": [],
   "source": [
    "def create_url():\n",
    "    # Assigning the base URL to a variable\n",
    "    cta_base_url=\"http://lapi.transitchicago.com/api/1.0/ttpositions.aspx?\"\n",
    "    # Creating a list of routes that willbe used in this project\n",
    "    route_colors=[\"Red\",\"Blue\",\"Brn\",'G',\"Org\",\"Pink\"]\n",
    "    # Randomly choosing a Route color list which will be used in the API call\n",
    "    #route_color=\"Blue\"\n",
    "    route_color=np.random.choice(route_colors)\n",
    "    print(f\"The route used in the API is {route_color}\")\n",
    "    # Creating a dictionary of Parameters to be used in the API Call\n",
    "    params2={'key':str(cta_key),'rt':route_color,\"outputType\":\"JSON\"}\n",
    "    # Creating the final url by combining the base url and the Parameters that includes the API Key\n",
    "    cta_api_url=str(cta_base_url)+urllib.parse.urlencode(params2)\n",
    "    return cta_api_url"
   ]
  },
  {
   "cell_type": "code",
   "execution_count": 4,
   "id": "b534e0f5-dda4-469a-b56c-2d14884317a3",
   "metadata": {},
   "outputs": [],
   "source": [
    "def extract_cta_data(cta_json_data):\n",
    "    \"\"\"\n",
    "    This function takes the json input and parses the data and returns a Dataframe of the extracted fields.\n",
    "    \"\"\"\n",
    "    # Creating a list of fields that will be extracted from the API\n",
    "    list_of_fields=[\"rn\",\"destSt\",\"destNm\",\"trDr\",\"nextStaId\"\n",
    "                    ,\"nextStpId\",\"nextStaNm\",\"prdt\",\"arrT\",\"isApp\",\"isDly\",\"lat\",\"lon\"]\n",
    "    # Checking of the error code from the API is 0 which indicates successful data retrieval\n",
    "    if cta_json_data['ctatt']['errCd']==\"0\":\n",
    "        # Extracting the Timestamp field\n",
    "        cta_timestamp=cta_json_data['ctatt']['tmst']\n",
    "        # Extracting the route information\n",
    "        cta_routes=cta_json_data['ctatt']['route']\n",
    "        # Extracting the route data\n",
    "        cta_route_name=cta_routes[0]['@name']\n",
    "        # Extracting the details of the train details \n",
    "        cta_train=cta_routes[0]['train']\n",
    "        # Getting the ctive number of trains\n",
    "        cta_train_len=len(cta_train)\n",
    "        # Creating a dummy dataframe with number of rows equal to number of active trains. The column\n",
    "        # length is same as number of columns extracted from the API\n",
    "        cta_df1=pd.DataFrame(np.random.rand(cta_train_len,len(list_of_fields)),columns=list_of_fields)\n",
    "        # Adding new columns to the daraframe to contain the timestamp and Route name\n",
    "        cta_df1[\"ROUTE_NAME\"]=cta_route_name\n",
    "        cta_df1[\"TIMESTAMP\"]=cta_timestamp\n",
    "        # Parsing each row and column in the dataframe and updating the values extracted from the API\n",
    "        for idx1 in range(cta_train_len):\n",
    "            # Looping through each field in the list of fields \n",
    "            for idx2,field in enumerate(list_of_fields):\n",
    "                #updating the Dataframe with the data extracted from API based on the Index positions\n",
    "                cta_df1.iloc[idx1,idx2]=cta_train[idx1][field]\n",
    "        # Formatting the dataframe by renaming columns\n",
    "        cta_df1.rename(columns={\"rn\":\"RUN_NUMBER\",\n",
    "                               \"destSt\":\"DEST_STREET\",\n",
    "                               \"destNm\":\"DEST_NAME\",\n",
    "                               \"trDr\":\"TRAIN_ROUTE_NBR\",\n",
    "                               \"nextStaId\":\"NEXT_STATION_ID\",\n",
    "                               \"nextStpId\":\"NEXT_STOP_ID\",\n",
    "                               \"nextStaNm\":\"NEXT_STATION_NAME\",\n",
    "                               \"prdt\":\"PREDICTION_TS\",\n",
    "                               \"arrT\":\"ARRIVAL_TS\",\n",
    "                               \"isApp\":\"IS_APPROACHING\",\n",
    "                               \"isDly\":\"IS_DELAYED\",\n",
    "                                \"lat\":\"LATITUDE\",\n",
    "                                \"lon\":\"LONGITUDE\"\n",
    "                               },inplace=True)\n",
    "        # Converting the data to Upper case and stripping off the extra spaces.\n",
    "        for col in cta_df1.columns:\n",
    "            cta_df1[col]=cta_df1[col].apply(str.strip)\n",
    "            cta_df1[col]=cta_df1[col].apply(str.upper)\n",
    "            return cta_df1\n",
    "    # If the errCd returned by the API is not 0, it indicates error\n",
    "    else:\n",
    "        print(f\"Error Occurred: {cta_json_data['ctatt']['errNm']}\")\n",
    "        return None"
   ]
  },
  {
   "cell_type": "code",
   "execution_count": 5,
   "id": "1f1212b1-d7d7-4869-b641-f71052fbdb00",
   "metadata": {},
   "outputs": [],
   "source": [
    "def call_api():\n",
    "    # Getting the API response\n",
    "    cta_api_url=create_url()\n",
    "    try:\n",
    "        cta_url_response=urllib.request.urlopen(cta_api_url)\n",
    "    # Handling the HTTPErrors if the movie details cannot be extracted or if page cannot be found\n",
    "    except urllib.error.HTTPError as error1:\n",
    "        print(f\"Sorry could not retrieve the details of the movie {movie_name}\")\n",
    "    # Handling URLexceptions such as Incorrect URL or Internet connection issues\n",
    "    except urllib.error.URLError as error2:\n",
    "        print(\"Failed to reach the server\")\n",
    "        print(f\"Reason: {error2.reason}\" )\n",
    "    # If no exceptions are found, data is extracted from the API response \n",
    "    else:\n",
    "        cta_url_data=cta_url_response.read()\n",
    "        # The response is converted to json\n",
    "        cta_json_data=json.loads(cta_url_data)\n",
    "        cta_df1=extract_cta_data(cta_json_data)\n",
    "        cta_df2=cta_df1[[\"ROUTE_NAME\",\"RUN_NUMBER\",\"DEST_STREET\",\"DEST_NAME\",\"NEXT_STATION_ID\"\n",
    "                     ,\"NEXT_STATION_NAME\",\"PREDICTION_TS\",\"ARRIVAL_TS\",\"IS_DELAYED\",\n",
    "                    \"LATITUDE\",\"LONGITUDE\"]]\n",
    "        #display(cta_df2)\n",
    "        csv_dump_path=key_path+\"/cta/cta_api_dump.csv\"\n",
    "        cta_df2.to_csv(csv_dump_path,mode=\"a\",index=False,header=False)\n",
    "        current_time = datetime.datetime.now()\n",
    "        print(f\"Successfully appended the output at {current_time}\")"
   ]
  },
  {
   "cell_type": "code",
   "execution_count": 8,
   "id": "96dc855d-f490-4884-b6a3-2fbe1fb99f8e",
   "metadata": {},
   "outputs": [
    {
     "name": "stdout",
     "output_type": "stream",
     "text": [
      "The route used in the API is Pink\n",
      "Successfully appended the output at 2024-02-23 02:36:23.161200\n"
     ]
    }
   ],
   "source": [
    "call_api()"
   ]
  },
  {
   "cell_type": "code",
   "execution_count": null,
   "id": "cbce7d5c-3259-435c-aa4b-bd7d95e5c6da",
   "metadata": {},
   "outputs": [],
   "source": [
    "import time\n",
    "while True:\n",
    "    # Code executed here\n",
    "    time.sleep(10)\n",
    "    call_api()"
   ]
  }
 ],
 "metadata": {
  "kernelspec": {
   "display_name": "Python 3 (ipykernel)",
   "language": "python",
   "name": "python3"
  },
  "language_info": {
   "codemirror_mode": {
    "name": "ipython",
    "version": 3
   },
   "file_extension": ".py",
   "mimetype": "text/x-python",
   "name": "python",
   "nbconvert_exporter": "python",
   "pygments_lexer": "ipython3",
   "version": "3.8.10"
  }
 },
 "nbformat": 4,
 "nbformat_minor": 5
}
