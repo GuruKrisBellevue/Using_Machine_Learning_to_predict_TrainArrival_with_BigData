{
 "cells": [
  {
   "cell_type": "code",
   "execution_count": 1,
   "id": "3f840591-1458-4537-b976-c16be0585a64",
   "metadata": {},
   "outputs": [],
   "source": [
    "# Importing Spark Session \n",
    "from pyspark.sql import SparkSession"
   ]
  },
  {
   "cell_type": "code",
   "execution_count": null,
   "id": "e86646f1-40d1-4d58-914a-21c94dc40926",
   "metadata": {},
   "outputs": [],
   "source": [
    "# Creating a Spark session Object\n",
    "spark = SparkSession. \\\n",
    "    builder. \\\n",
    "    config('spark.jars.packages', 'org.apache.spark:spark-sql-kafka-0-10_2.12:3.0.1'). \\\n",
    "    config('spark.ui.port', '0'). \\\n",
    "    config('spark.sql.warehouse.dir', f'/user/warehouse'). \\\n",
    "    enableHiveSupport(). \\\n",
    "    appName(f' Python - Kafka and Spark Integration for Machine Learning'). \\\n",
    "    master('yarn'). \\\n",
    "    getOrCreate()"
   ]
  },
  {
   "cell_type": "code",
   "execution_count": 3,
   "id": "f1c5716c-13bf-47b2-86c9-6e50bdd1d5f1",
   "metadata": {},
   "outputs": [],
   "source": [
    "# Creating a variable to store Bootstrap server details\n",
    "kafka_bootstrap_servers = 'localhost:9092'"
   ]
  },
  {
   "cell_type": "code",
   "execution_count": 4,
   "id": "8d070f4f-691c-44b7-8602-9890a919b79c",
   "metadata": {},
   "outputs": [],
   "source": [
    "# Creating a Spark Readstream object\n",
    "df_cta_readstream = spark. \\\n",
    "  readStream. \\\n",
    "  format('kafka'). \\\n",
    "  option('kafka.bootstrap.servers', kafka_bootstrap_servers). \\\n",
    "  option('subscribe', 'cta_topic_kc'). \\\n",
    "  load()"
   ]
  },
  {
   "cell_type": "code",
   "execution_count": 5,
   "id": "9f73f802-1de4-4a65-8fd3-ae0c587b87dd",
   "metadata": {},
   "outputs": [
    {
     "name": "stderr",
     "output_type": "stream",
     "text": [
      "24/03/02 17:26:35 WARN ResolveWriteToStream: Temporary checkpoint location created which is deleted normally when the query didn't fail: /tmp/temporary-0fffc591-5cea-477d-afb8-f27fc8d35f46. If it's required to delete it under any circumstances, please set spark.sql.streaming.forceDeleteTempCheckpointLocation to true. Important to know deleting temp checkpoint folder is best effort.\n",
      "24/03/02 17:26:35 WARN ResolveWriteToStream: spark.sql.adaptive.enabled is not supported in streaming DataFrames/Datasets and will be disabled.\n"
     ]
    },
    {
     "data": {
      "text/plain": [
       "<pyspark.sql.streaming.query.StreamingQuery at 0x7f6284a7b3a0>"
      ]
     },
     "execution_count": 5,
     "metadata": {},
     "output_type": "execute_result"
    },
    {
     "name": "stderr",
     "output_type": "stream",
     "text": [
      "[Stage 0:>                                                          (0 + 1) / 1]\r"
     ]
    }
   ],
   "source": [
    "# Creating a query name object to read the data from the Readstream\n",
    "df_cta_readstream.selectExpr(\"CAST(key AS STRING)\", \"CAST(value AS STRING)\"). \\\n",
    "    writeStream. \\\n",
    "    format(\"memory\"). \\\n",
    "    queryName(\"df_cta_sql_ml\"). \\\n",
    "    start()"
   ]
  },
  {
   "cell_type": "code",
   "execution_count": 55,
   "id": "94b92ee9-b979-4afe-9214-20577543bda8",
   "metadata": {},
   "outputs": [
    {
     "name": "stdout",
     "output_type": "stream",
     "text": [
      "+--------+\n",
      "|count(1)|\n",
      "+--------+\n",
      "|    5530|\n",
      "+--------+\n",
      "\n"
     ]
    }
   ],
   "source": [
    "# Checking the count of the streaming data \n",
    "spark.sql('SELECT count(1) FROM df_cta_sql_ml').show()"
   ]
  },
  {
   "cell_type": "code",
   "execution_count": 56,
   "id": "efdad450-fac8-44a9-add3-798c3b70ba35",
   "metadata": {},
   "outputs": [
    {
     "name": "stdout",
     "output_type": "stream",
     "text": [
      "+----+-------------------------------------------------------------------------------------------------------------------+\n",
      "|key |value                                                                                                              |\n",
      "+----+-------------------------------------------------------------------------------------------------------------------+\n",
      "|NULL|g,001,30057,Ashland/63rd,41160,Clinton,2024-03-02T11:26:17,2024-03-02T11:27:17,0,41.88566,-87.64782                |\n",
      "|NULL|g,004,30004,Harlem/Lake,41350,Oak Park,2024-03-02T11:26:16,2024-03-02T11:27:16,0,41.88707,-87.78872                |\n",
      "|NULL|g,005,30004,Harlem/Lake,41400,Roosevelt,2024-03-02T11:25:40,2024-03-02T11:29:40,0,41.86744,-87.62659               |\n",
      "|NULL|g,006,30004,Harlem/Lake,40030,Pulaski,2024-03-02T11:25:06,2024-03-02T11:27:06,0,41.8849,-87.71652                  |\n",
      "|NULL|g,007,30057,Ashland/63rd,41080,47th,2024-03-02T11:26:18,2024-03-02T11:27:18,0,41.81284,-87.61892                   |\n",
      "|NULL|g,601,30004,Harlem/Lake,41080,47th,2024-03-02T11:24:28,2024-03-02T11:25:28,0,41.80209,-87.6185                     |\n",
      "|NULL|g,603,30139,Cottage Grove,41690,Cermak-McCormick Place,2024-03-02T11:26:05,2024-03-02T11:29:05,0,41.86744,-87.62659|\n",
      "|NULL|g,605,30139,Cottage Grove,41070,Kedzie,2024-03-02T11:25:56,2024-03-02T11:27:56,0,41.8849,-87.71652                 |\n",
      "|NULL|g,608,30057,Ashland/63rd,40610,Ridgeland,2024-03-02T11:26:16,2024-03-02T11:27:16,0,41.88707,-87.78872              |\n",
      "|NULL|g,609,30004,Harlem/Lake,41510,Morgan,2024-03-02T11:25:38,2024-03-02T11:26:38,0,41.8857,-87.64178                   |\n",
      "|NULL|blue,102,30171,O'Hare,40670,Western (O'Hare Branch),2024-03-02T11:26:36,2024-03-02T11:27:36,0,41.90974,-87.67744   |\n",
      "|NULL|blue,106,30077,Forest Park,40370,Washington,2024-03-02T11:26:18,2024-03-02T11:27:18,0,41.88574,-87.63089           |\n",
      "|NULL|blue,109,30171,O'Hare,40820,Rosemont,2024-03-02T11:26:06,2024-03-02T11:28:06,0,41.98429,-87.83803                  |\n",
      "|NULL|blue,202,30077,Forest Park,40320,Division,2024-03-02T11:26:32,2024-03-02T11:27:32,0,41.90392,-87.66746             |\n",
      "|NULL|blue,203,30077,Forest Park,40550,Irving Park,2024-03-02T11:26:31,2024-03-02T11:28:31,0,41.96149,-87.74362          |\n",
      "|NULL|blue,206,30171,O'Hare,40070,Jackson,2024-03-02T11:19:00,2024-03-02T11:20:00,1,41.87557,-87.63172                   |\n",
      "|NULL|blue,207,30171,O'Hare,40810,Illinois Medical District,2024-03-02T11:26:33,2024-03-02T11:27:33,0,41.87563,-87.67474 |\n",
      "|NULL|blue,209,30077,Forest Park,40010,Austin,2024-03-02T11:26:38,2024-03-02T11:29:38,0,41.8715,-87.75395                |\n",
      "|NULL|blue,210,30077,Forest Park,40790,Monroe,2024-03-02T11:26:01,2024-03-02T11:27:01,0,41.88316,-87.62944               |\n",
      "|NULL|blue,211,30171,O'Hare,40970,Cicero,2024-03-02T11:26:29,2024-03-02T11:29:29,0,41.87008,-87.76318                    |\n",
      "+----+-------------------------------------------------------------------------------------------------------------------+\n",
      "only showing top 20 rows\n",
      "\n"
     ]
    }
   ],
   "source": [
    "# Checking the samples of the streaming data \n",
    "spark.sql('SELECT * FROM df_cta_sql_ml').show(truncate=False)"
   ]
  },
  {
   "cell_type": "code",
   "execution_count": 11,
   "id": "78382f93-3e4d-4c4d-a7be-4e60e4b6f1e4",
   "metadata": {},
   "outputs": [
    {
     "name": "stderr",
     "output_type": "stream",
     "text": [
      "                                                                                \r"
     ]
    }
   ],
   "source": [
    "# Importing required SQL functions\n",
    "from pyspark.sql.functions import lit, date_format, to_date, split, substring,unix_timestamp, from_unixtime"
   ]
  },
  {
   "cell_type": "markdown",
   "id": "0e49917e-a3cb-4123-bdb6-f7b78d59f169",
   "metadata": {},
   "source": [
    "### Writing ML streaming data to HDFS"
   ]
  },
  {
   "cell_type": "code",
   "execution_count": 57,
   "id": "0870a5ef-ef76-4258-b8a9-1ef12b9155ab",
   "metadata": {},
   "outputs": [],
   "source": [
    "#!hdfs dfs -rm -R -skipTrash /final_project_hdfs/ml"
   ]
  },
  {
   "cell_type": "code",
   "execution_count": 58,
   "id": "aa34db07-8d73-41b8-b27b-2816f7385a2a",
   "metadata": {},
   "outputs": [
    {
     "name": "stderr",
     "output_type": "stream",
     "text": [
      "24/03/02 19:20:53 WARN ResolveWriteToStream: spark.sql.adaptive.enabled is not supported in streaming DataFrames/Datasets and will be disabled.\n",
      "24/03/02 19:20:53 WARN StreamingQueryManager: Stopping existing streaming query [id=2d9d4a30-cfe0-4117-920c-b929b0101318, runId=bc173ec8-b4f4-41dc-8ee3-809d3884c9c5], as a new run is being started.\n"
     ]
    },
    {
     "data": {
      "text/plain": [
       "<pyspark.sql.streaming.query.StreamingQuery at 0x7f62845438b0>"
      ]
     },
     "execution_count": 58,
     "metadata": {},
     "output_type": "execute_result"
    }
   ],
   "source": [
    "# Writing the data into HDFS in a new path /final_project_hdfs/ml/data\n",
    "df_cta_readstream.selectExpr(\"CAST(key AS STRING)\", \"CAST(value AS STRING)\"). \\\n",
    "    withColumn('route_color', split('value', ',')[0]). \\\n",
    "    withColumn('run_number', split('value', ',')[1]). \\\n",
    "    withColumn('dest_name', split('value', ',')[3]). \\\n",
    "    withColumn('next_station_id', split('value', ',')[4]). \\\n",
    "    withColumn('next_station_name', split('value', ',')[5]). \\\n",
    "    withColumn('lat', split('value', ',')[9]). \\\n",
    "    withColumn('lon', split('value', ',')[10]). \\\n",
    "    withColumn('transit_date', to_date(split('value', ',')[6], \"yyyy-MM-dd'T'HH:mm:ss\")). \\\n",
    "    withColumn('year', date_format('transit_date', 'yyyy')). \\\n",
    "    withColumn('month', date_format('transit_date', 'MM')). \\\n",
    "    withColumn('dayofmonth', date_format('transit_date', 'dd')). \\\n",
    "    withColumn('hour', date_format('transit_date', 'HH')). \\\n",
    "    withColumn('minute', date_format('transit_date', 'mm')). \\\n",
    "    withColumn('is_delayed', split('value', ',')[8]). \\\n",
    "    writeStream. \\\n",
    "    format('csv'). \\\n",
    "    option(\"checkpointLocation\", '/final_project_hdfs/ml/checkpoint'). \\\n",
    "    option('path', '/final_project_hdfs/ml/data'). \\\n",
    "    option('header',True). \\\n",
    "    option('sep','|'). \\\n",
    "    trigger(processingTime='10 seconds'). \\\n",
    "    start()"
   ]
  },
  {
   "cell_type": "code",
   "execution_count": 54,
   "id": "e0c26a18-4781-4592-b2c5-a3517ec223bf",
   "metadata": {},
   "outputs": [
    {
     "name": "stdout",
     "output_type": "stream",
     "text": [
      "Found 416 items\n",
      "drwxr-xr-x   - guruprasadvk10 supergroup          0 2024-03-02 18:39 /final_project_hdfs/ml/data/_spark_metadata\n",
      "-rw-r--r--   1 guruprasadvk10 supergroup       1987 2024-03-02 17:36 /final_project_hdfs/ml/data/part-00000-0037e94a-92e3-4818-aad9-d2ea1a2611c6-c000.csv\n",
      "-rw-r--r--   1 guruprasadvk10 supergroup       1209 2024-03-02 18:36 /final_project_hdfs/ml/data/part-00000-00b52e82-8d89-42a4-bcac-6ac4d2c2effa-c000.csv\n",
      "-rw-r--r--   1 guruprasadvk10 supergroup       2031 2024-03-02 17:50 /final_project_hdfs/ml/data/part-00000-00c8e9b3-e262-4d1f-9fec-343ad32e854a-c000.csv\n",
      "-rw-r--r--   1 guruprasadvk10 supergroup       1225 2024-03-02 18:12 /final_project_hdfs/ml/data/part-00000-01ffbd6c-82d8-459e-b9ad-db994f84299f-c000.csv\n",
      "-rw-r--r--   1 guruprasadvk10 supergroup       2383 2024-03-02 18:17 /final_project_hdfs/ml/data/part-00000-026e023a-4e8f-482d-998f-1630950d0a02-c000.csv\n",
      "-rw-r--r--   1 guruprasadvk10 supergroup       2162 2024-03-02 18:16 /final_project_hdfs/ml/data/part-00000-04d00dfe-e6f0-41d5-a215-478eba2192eb-c000.csv\n",
      "-rw-r--r--   1 guruprasadvk10 supergroup       2160 2024-03-02 18:30 /final_project_hdfs/ml/data/part-00000-04f70095-cf28-43fe-b8b5-8d5fc84032d1-c000.csv\n",
      "-rw-r--r--   1 guruprasadvk10 supergroup       2136 2024-03-02 18:26 /final_project_hdfs/ml/data/part-00000-05f123ea-c165-4040-b719-49c108a4445a-c000.csv\n",
      "-rw-r--r--   1 guruprasadvk10 supergroup       2226 2024-03-02 18:36 /final_project_hdfs/ml/data/part-00000-06253993-374f-4ed8-a043-3e19432354a3-c000.csv\n",
      "-rw-r--r--   1 guruprasadvk10 supergroup       1995 2024-03-02 17:56 /final_project_hdfs/ml/data/part-00000-06505f64-e79e-41e7-aad3-c39a234b5b9e-c000.csv\n",
      "-rw-r--r--   1 guruprasadvk10 supergroup       1026 2024-03-02 17:43 /final_project_hdfs/ml/data/part-00000-07399473-34d7-4adf-b0d9-294da1ab9c12-c000.csv\n",
      "-rw-r--r--   1 guruprasadvk10 supergroup       2162 2024-03-02 17:47 /final_project_hdfs/ml/data/part-00000-0790a502-9533-44d4-9bdb-ac5110f10352-c000.csv\n",
      "-rw-r--r--   1 guruprasadvk10 supergroup       1416 2024-03-02 18:08 /final_project_hdfs/ml/data/part-00000-0859e785-6de9-47cd-9436-1346deab46e8-c000.csv\n",
      "-rw-r--r--   1 guruprasadvk10 supergroup       1408 2024-03-02 18:34 /final_project_hdfs/ml/data/part-00000-08c8e84a-6c9a-44ff-846a-393c956963a4-c000.csv\n",
      "-rw-r--r--   1 guruprasadvk10 supergroup       1396 2024-03-02 18:25 /final_project_hdfs/ml/data/part-00000-0a7d213e-7013-4429-adff-1403d5b4b585-c000.csv\n",
      "-rw-r--r--   1 guruprasadvk10 supergroup       2393 2024-03-02 18:20 /final_project_hdfs/ml/data/part-00000-0afe83ad-fff5-4137-a814-e38f109198be-c000.csv\n",
      "-rw-r--r--   1 guruprasadvk10 supergroup       1794 2024-03-02 17:31 /final_project_hdfs/ml/data/part-00000-0b7718c4-74f5-4efa-a8e0-56025cbe9b91-c000.csv\n",
      "-rw-r--r--   1 guruprasadvk10 supergroup       1838 2024-03-02 17:42 /final_project_hdfs/ml/data/part-00000-0b8f6e47-36c0-4b7c-b8f0-422d8d46e7f0-c000.csv\n",
      "-rw-r--r--   1 guruprasadvk10 supergroup        871 2024-03-02 18:00 /final_project_hdfs/ml/data/part-00000-0b95ee04-5385-4a8a-90c1-05b63457f6b8-c000.csv\n",
      "-rw-r--r--   1 guruprasadvk10 supergroup       1040 2024-03-02 18:02 /final_project_hdfs/ml/data/part-00000-0d9fafb1-6911-407e-afcb-199e58bba09f-c000.csv\n",
      "-rw-r--r--   1 guruprasadvk10 supergroup       1203 2024-03-02 18:23 /final_project_hdfs/ml/data/part-00000-0e4b0ad8-6d38-4970-af1c-39861c6428b4-c000.csv\n",
      "-rw-r--r--   1 guruprasadvk10 supergroup       2142 2024-03-02 18:33 /final_project_hdfs/ml/data/part-00000-0f04ef1d-b9e8-470e-9cd8-ea798b30aeed-c000.csv\n",
      "-rw-r--r--   1 guruprasadvk10 supergroup        885 2024-03-02 17:47 /final_project_hdfs/ml/data/part-00000-0f05a263-6191-4e44-a6c4-ef8224088cb5-c000.csv\n",
      "-rw-r--r--   1 guruprasadvk10 supergroup       2246 2024-03-02 18:02 /final_project_hdfs/ml/data/part-00000-0f1b195a-8f30-46c6-bb4a-8b81f6723f5e-c000.csv\n",
      "-rw-r--r--   1 guruprasadvk10 supergroup       1008 2024-03-02 18:14 /final_project_hdfs/ml/data/part-00000-0fd3339d-8198-4200-a372-2303a8da3dae-c000.csv\n",
      "-rw-r--r--   1 guruprasadvk10 supergroup       2180 2024-03-02 18:17 /final_project_hdfs/ml/data/part-00000-100f6d56-bbe3-4fb3-8848-c61d382791a2-c000.csv\n",
      "-rw-r--r--   1 guruprasadvk10 supergroup       1384 2024-03-02 17:52 /final_project_hdfs/ml/data/part-00000-10280bfe-d30a-4e3a-8922-10127cecedbc-c000.csv\n",
      "-rw-r--r--   1 guruprasadvk10 supergroup       2081 2024-03-02 18:24 /final_project_hdfs/ml/data/part-00000-13734b1c-60e3-40ec-8ebc-47a0d5aeb76b-c000.csv\n",
      "-rw-r--r--   1 guruprasadvk10 supergroup       1983 2024-03-02 18:18 /final_project_hdfs/ml/data/part-00000-138a8fa5-ebe7-47cc-b23c-94470bae0016-c000.csv\n",
      "-rw-r--r--   1 guruprasadvk10 supergroup       2049 2024-03-02 18:21 /final_project_hdfs/ml/data/part-00000-14fa0dcf-9762-4617-aca6-a102041ea67e-c000.csv\n",
      "-rw-r--r--   1 guruprasadvk10 supergroup       1062 2024-03-02 18:11 /final_project_hdfs/ml/data/part-00000-16b4b64e-1c1e-4f0b-a539-0c28f4bbd7da-c000.csv\n",
      "-rw-r--r--   1 guruprasadvk10 supergroup       1368 2024-03-02 17:38 /final_project_hdfs/ml/data/part-00000-177da463-9dc8-4b52-8416-c0bff9dfe322-c000.csv\n",
      "-rw-r--r--   1 guruprasadvk10 supergroup       2429 2024-03-02 18:32 /final_project_hdfs/ml/data/part-00000-195442d0-5553-4a50-ae8d-1f9115f83611-c000.csv\n",
      "-rw-r--r--   1 guruprasadvk10 supergroup        849 2024-03-02 17:35 /final_project_hdfs/ml/data/part-00000-195c3939-ddaf-4ce6-aada-569f668a56bc-c000.csv\n",
      "-rw-r--r--   1 guruprasadvk10 supergroup       2057 2024-03-02 18:15 /final_project_hdfs/ml/data/part-00000-1a5b754f-d0ca-4050-9182-46734671b5bd-c000.csv\n",
      "-rw-r--r--   1 guruprasadvk10 supergroup       2138 2024-03-02 18:33 /final_project_hdfs/ml/data/part-00000-1b4244e4-ea6d-4f51-9fe0-691aae9053b8-c000.csv\n",
      "-rw-r--r--   1 guruprasadvk10 supergroup       2037 2024-03-02 18:10 /final_project_hdfs/ml/data/part-00000-1d08fe03-f3ba-4ade-aed5-e07874e214a0-c000.csv\n",
      "-rw-r--r--   1 guruprasadvk10 supergroup       1249 2024-03-02 18:20 /final_project_hdfs/ml/data/part-00000-1e848eb7-8703-4910-994c-5537b23bf69e-c000.csv\n",
      "-rw-r--r--   1 guruprasadvk10 supergroup       1060 2024-03-02 18:28 /final_project_hdfs/ml/data/part-00000-1eb15ecb-4321-4975-88de-7245ff234761-c000.csv\n",
      "-rw-r--r--   1 guruprasadvk10 supergroup       2431 2024-03-02 18:01 /final_project_hdfs/ml/data/part-00000-20b37a58-7666-4fc8-9aae-a48a2ee4804a-c000.csv\n",
      "-rw-r--r--   1 guruprasadvk10 supergroup       1207 2024-03-02 18:35 /final_project_hdfs/ml/data/part-00000-21b2d755-8aef-48de-a274-e6072c93a108-c000.csv\n",
      "-rw-r--r--   1 guruprasadvk10 supergroup       1814 2024-03-02 17:45 /final_project_hdfs/ml/data/part-00000-2221778e-a7ed-43e5-b2fb-dce78e7876ed-c000.csv\n",
      "-rw-r--r--   1 guruprasadvk10 supergroup       1030 2024-03-02 18:36 /final_project_hdfs/ml/data/part-00000-222a8a6c-66af-440b-bfbe-5ceb39e0f676-c000.csv\n",
      "-rw-r--r--   1 guruprasadvk10 supergroup       1050 2024-03-02 17:58 /final_project_hdfs/ml/data/part-00000-223bb05e-e8be-4d49-81a8-ac4a5f43c9f4-c000.csv\n",
      "-rw-r--r--   1 guruprasadvk10 supergroup       2029 2024-03-02 18:35 /final_project_hdfs/ml/data/part-00000-22ef0005-80db-4de0-a71d-b90b29294543-c000.csv\n",
      "-rw-r--r--   1 guruprasadvk10 supergroup       2033 2024-03-02 18:14 /final_project_hdfs/ml/data/part-00000-23181469-ee6b-4508-adbd-528c531125a3-c000.csv\n",
      "-rw-r--r--   1 guruprasadvk10 supergroup       1380 2024-03-02 18:29 /final_project_hdfs/ml/data/part-00000-2377dd62-c5dd-4d35-ac44-1c788e5bc9ae-c000.csv\n",
      "-rw-r--r--   1 guruprasadvk10 supergroup       1804 2024-03-02 17:30 /final_project_hdfs/ml/data/part-00000-248e0e75-a9f0-40e8-a5bc-3d2374919870-c000.csv\n",
      "-rw-r--r--   1 guruprasadvk10 supergroup       1794 2024-03-02 17:31 /final_project_hdfs/ml/data/part-00000-253b4b84-761c-4bfe-a07a-337f0b0860f2-c000.csv\n",
      "-rw-r--r--   1 guruprasadvk10 supergroup       1388 2024-03-02 18:15 /final_project_hdfs/ml/data/part-00000-2595a8ad-8daf-46c1-8497-1ded622d5650-c000.csv\n",
      "-rw-r--r--   1 guruprasadvk10 supergroup       1048 2024-03-02 17:46 /final_project_hdfs/ml/data/part-00000-25e005b4-2b59-4e0b-93d8-c8323a8279a1-c000.csv\n",
      "-rw-r--r--   1 guruprasadvk10 supergroup       2166 2024-03-02 18:36 /final_project_hdfs/ml/data/part-00000-25fe9278-6fe0-4e2d-9f64-29bd21295a70-c000.csv\n",
      "-rw-r--r--   1 guruprasadvk10 supergroup       2385 2024-03-02 18:19 /final_project_hdfs/ml/data/part-00000-26c232a5-8fbb-4754-9cb0-9bfad022ddde-c000.csv\n",
      "-rw-r--r--   1 guruprasadvk10 supergroup       2031 2024-03-02 17:49 /final_project_hdfs/ml/data/part-00000-27b51aae-5276-4eab-b8f0-7c6468d5f903-c000.csv\n",
      "-rw-r--r--   1 guruprasadvk10 supergroup       1016 2024-03-02 18:29 /final_project_hdfs/ml/data/part-00000-27e92a37-2d24-4498-bf8d-50bc240d679a-c000.csv\n",
      "-rw-r--r--   1 guruprasadvk10 supergroup       1022 2024-03-02 18:07 /final_project_hdfs/ml/data/part-00000-281ff84e-50cd-4acd-9faa-a47b41ae4d82-c000.csv\n",
      "-rw-r--r--   1 guruprasadvk10 supergroup       1070 2024-03-02 17:35 /final_project_hdfs/ml/data/part-00000-28d15dfb-40da-49e7-a88a-35f4e74cb14c-c000.csv\n",
      "-rw-r--r--   1 guruprasadvk10 supergroup       1380 2024-03-02 17:42 /final_project_hdfs/ml/data/part-00000-2a9070a7-a375-4845-a82e-0c823dda3805-c000.csv\n",
      "-rw-r--r--   1 guruprasadvk10 supergroup       1098 2024-03-02 18:22 /final_project_hdfs/ml/data/part-00000-2ba4b3a6-238d-40ce-a7c5-28fda4ac3de0-c000.csv\n",
      "-rw-r--r--   1 guruprasadvk10 supergroup       1440 2024-03-02 18:02 /final_project_hdfs/ml/data/part-00000-2c2763c6-62d9-411f-8930-4dd1e5876ce4-c000.csv\n",
      "-rw-r--r--   1 guruprasadvk10 supergroup       2453 2024-03-02 18:06 /final_project_hdfs/ml/data/part-00000-2c56173e-1a9e-4609-8702-70f12ecdf1ef-c000.csv\n",
      "-rw-r--r--   1 guruprasadvk10 supergroup       1018 2024-03-02 18:29 /final_project_hdfs/ml/data/part-00000-2c7facab-edfe-4ecc-9b28-08cc95f70321-c000.csv\n",
      "-rw-r--r--   1 guruprasadvk10 supergroup       2027 2024-03-02 18:25 /final_project_hdfs/ml/data/part-00000-2fb0dac0-71d2-446a-b4f7-f58e2ce2cfc1-c000.csv\n",
      "-rw-r--r--   1 guruprasadvk10 supergroup       1076 2024-03-02 17:37 /final_project_hdfs/ml/data/part-00000-331f7f70-2c89-421c-8bb0-9ef8ff52db93-c000.csv\n",
      "-rw-r--r--   1 guruprasadvk10 supergroup       1621 2024-03-02 17:41 /final_project_hdfs/ml/data/part-00000-33a681f8-a0c0-4dca-9f13-d5e9e2028520-c000.csv\n",
      "-rw-r--r--   1 guruprasadvk10 supergroup       1241 2024-03-02 18:33 /final_project_hdfs/ml/data/part-00000-33df16bd-2667-4fbe-a83b-5668330f55ed-c000.csv\n",
      "-rw-r--r--   1 guruprasadvk10 supergroup       2325 2024-03-02 18:12 /final_project_hdfs/ml/data/part-00000-3442cfda-1f08-4f6b-bf0a-1926ba25892a-c000.csv\n",
      "-rw-r--r--   1 guruprasadvk10 supergroup       1967 2024-03-02 18:30 /final_project_hdfs/ml/data/part-00000-3443df51-ac5f-4bb5-94c3-2c39e1505bd2-c000.csv\n",
      "-rw-r--r--   1 guruprasadvk10 supergroup       1410 2024-03-02 18:21 /final_project_hdfs/ml/data/part-00000-344fcbea-d5eb-4e1a-8832-6986fc0f947b-c000.csv\n",
      "-rw-r--r--   1 guruprasadvk10 supergroup       2007 2024-03-02 17:39 /final_project_hdfs/ml/data/part-00000-3495cb68-a976-4008-8819-100823b418fa-c000.csv\n",
      "-rw-r--r--   1 guruprasadvk10 supergroup       1060 2024-03-02 17:50 /final_project_hdfs/ml/data/part-00000-35bbda5f-59cf-4c80-af2b-e57c049085a1-c000.csv\n",
      "-rw-r--r--   1 guruprasadvk10 supergroup       1989 2024-03-02 18:28 /final_project_hdfs/ml/data/part-00000-35da977f-ee1b-4fe4-8da9-6017286b3f19-c000.csv\n",
      "-rw-r--r--   1 guruprasadvk10 supergroup       1024 2024-03-02 18:31 /final_project_hdfs/ml/data/part-00000-36b525e1-62d6-42b5-bf71-3872bb40719d-c000.csv\n",
      "-rw-r--r--   1 guruprasadvk10 supergroup       1062 2024-03-02 18:14 /final_project_hdfs/ml/data/part-00000-36ce3b9a-c606-41af-a8d1-73ac2b593a1c-c000.csv\n",
      "-rw-r--r--   1 guruprasadvk10 supergroup       1018 2024-03-02 17:54 /final_project_hdfs/ml/data/part-00000-36facb2c-1818-4bca-b7bf-b305a85f0319-c000.csv\n",
      "-rw-r--r--   1 guruprasadvk10 supergroup       1038 2024-03-02 17:32 /final_project_hdfs/ml/data/part-00000-3838e13c-632c-4304-bfed-032c46bc7431-c000.csv\n",
      "-rw-r--r--   1 guruprasadvk10 supergroup       2250 2024-03-02 17:35 /final_project_hdfs/ml/data/part-00000-38dfa024-abd0-48c0-a300-4ceeaa070281-c000.csv\n",
      "-rw-r--r--   1 guruprasadvk10 supergroup       1056 2024-03-02 17:53 /final_project_hdfs/ml/data/part-00000-38e7a045-2c5c-4cb0-858c-8758f2add1b2-c000.csv\n",
      "-rw-r--r--   1 guruprasadvk10 supergroup       1993 2024-03-02 17:55 /final_project_hdfs/ml/data/part-00000-39721f5b-0dab-4699-99f3-827cd11ba97f-c000.csv\n",
      "-rw-r--r--   1 guruprasadvk10 supergroup       1227 2024-03-02 17:57 /final_project_hdfs/ml/data/part-00000-39c3b955-e53b-4861-9588-4e772350acee-c000.csv\n",
      "-rw-r--r--   1 guruprasadvk10 supergroup       1408 2024-03-02 18:08 /final_project_hdfs/ml/data/part-00000-3a2326ca-233a-4daa-815c-05792a9f1829-c000.csv\n",
      "-rw-r--r--   1 guruprasadvk10 supergroup       1046 2024-03-02 17:34 /final_project_hdfs/ml/data/part-00000-3b7b9372-9e5c-4443-a92f-2747148fcf6a-c000.csv\n",
      "-rw-r--r--   1 guruprasadvk10 supergroup       1022 2024-03-02 17:30 /final_project_hdfs/ml/data/part-00000-3bb3da6c-8594-49c0-8af2-0de01d509d1a-c000.csv\n",
      "-rw-r--r--   1 guruprasadvk10 supergroup       2019 2024-03-02 17:56 /final_project_hdfs/ml/data/part-00000-3bd96880-cf3f-4868-87d8-b390c58cec5b-c000.csv\n",
      "-rw-r--r--   1 guruprasadvk10 supergroup       1382 2024-03-02 17:40 /final_project_hdfs/ml/data/part-00000-3c1706c6-2f75-43c1-a53c-283f4d99f889-c000.csv\n",
      "-rw-r--r--   1 guruprasadvk10 supergroup       1374 2024-03-02 17:29 /final_project_hdfs/ml/data/part-00000-3c21dcca-1166-481e-8f40-6e0ea886b115-c000.csv\n",
      "-rw-r--r--   1 guruprasadvk10 supergroup       1074 2024-03-02 17:30 /final_project_hdfs/ml/data/part-00000-3ca99312-8809-447c-a135-8253c7df3df2-c000.csv\n",
      "-rw-r--r--   1 guruprasadvk10 supergroup       1806 2024-03-02 17:42 /final_project_hdfs/ml/data/part-00000-3dc63a64-d6d9-4a8b-8f46-74f9d4dc8023-c000.csv\n",
      "-rw-r--r--   1 guruprasadvk10 supergroup       2381 2024-03-02 17:58 /final_project_hdfs/ml/data/part-00000-3e2b54c9-7629-4b4b-a82a-d9ab40cf8651-c000.csv\n",
      "-rw-r--r--   1 guruprasadvk10 supergroup       1028 2024-03-02 17:30 /final_project_hdfs/ml/data/part-00000-3fec08a1-7342-40e2-8c1e-4c20b7f13a5c-c000.csv\n",
      "-rw-r--r--   1 guruprasadvk10 supergroup       2260 2024-03-02 18:10 /final_project_hdfs/ml/data/part-00000-406f428d-9812-4dca-9522-10f78c036905-c000.csv\n",
      "-rw-r--r--   1 guruprasadvk10 supergroup       2011 2024-03-02 17:54 /final_project_hdfs/ml/data/part-00000-40a07a48-1bb3-4fe2-9c12-0eda47d56c2c-c000.csv\n",
      "-rw-r--r--   1 guruprasadvk10 supergroup       1977 2024-03-02 18:17 /final_project_hdfs/ml/data/part-00000-40cc3e2b-0d84-4ab6-82af-589455b182a1-c000.csv\n",
      "-rw-r--r--   1 guruprasadvk10 supergroup       1026 2024-03-02 18:30 /final_project_hdfs/ml/data/part-00000-40f9062d-44af-4641-bf80-a4de4d37f5ab-c000.csv\n",
      "-rw-r--r--   1 guruprasadvk10 supergroup       1018 2024-03-02 18:29 /final_project_hdfs/ml/data/part-00000-42a4da38-9f18-4f15-8695-fed11ff956ba-c000.csv\n",
      "-rw-r--r--   1 guruprasadvk10 supergroup       1227 2024-03-02 18:19 /final_project_hdfs/ml/data/part-00000-4416d2cf-13c2-4716-a469-de1c3084704c-c000.csv\n",
      "-rw-r--r--   1 guruprasadvk10 supergroup       1392 2024-03-02 18:07 /final_project_hdfs/ml/data/part-00000-4431677b-0b0d-4f6d-a07d-da979504969a-c000.csv\n",
      "-rw-r--r--   1 guruprasadvk10 supergroup       1804 2024-03-02 17:33 /final_project_hdfs/ml/data/part-00000-447bc946-0b17-45e3-a63f-8c88635d891c-c000.csv\n",
      "-rw-r--r--   1 guruprasadvk10 supergroup       1953 2024-03-02 18:31 /final_project_hdfs/ml/data/part-00000-453a3838-b8e8-4a8b-8190-3e658af700a4-c000.csv\n",
      "-rw-r--r--   1 guruprasadvk10 supergroup       1987 2024-03-02 17:37 /final_project_hdfs/ml/data/part-00000-46f7f88d-04b7-4e60-acc2-5dec979c60b6-c000.csv\n",
      "-rw-r--r--   1 guruprasadvk10 supergroup       1239 2024-03-02 18:32 /final_project_hdfs/ml/data/part-00000-471eb811-2735-461b-9d3e-06064d955a39-c000.csv\n",
      "-rw-r--r--   1 guruprasadvk10 supergroup       1058 2024-03-02 17:36 /final_project_hdfs/ml/data/part-00000-48061ef7-673d-4a32-8b4f-93bff459c277-c000.csv\n",
      "-rw-r--r--   1 guruprasadvk10 supergroup       2007 2024-03-02 17:43 /final_project_hdfs/ml/data/part-00000-4a67d9ee-5361-4cc2-920a-fcb1af5be066-c000.csv\n",
      "-rw-r--r--   1 guruprasadvk10 supergroup       2053 2024-03-02 17:44 /final_project_hdfs/ml/data/part-00000-4a6a17ee-41ce-4642-9a33-abcc8e262991-c000.csv\n",
      "-rw-r--r--   1 guruprasadvk10 supergroup       1400 2024-03-02 17:44 /final_project_hdfs/ml/data/part-00000-4bab14c4-473b-4cc6-bd15-919350988069-c000.csv\n",
      "-rw-r--r--   1 guruprasadvk10 supergroup       1098 2024-03-02 18:11 /final_project_hdfs/ml/data/part-00000-4c0a7cd7-041e-4482-961e-49b79d09df22-c000.csv\n",
      "-rw-r--r--   1 guruprasadvk10 supergroup       1384 2024-03-02 17:52 /final_project_hdfs/ml/data/part-00000-4c923326-aeae-4b13-bd5d-2e19d61b7f38-c000.csv\n",
      "-rw-r--r--   1 guruprasadvk10 supergroup       1993 2024-03-02 17:47 /final_project_hdfs/ml/data/part-00000-4cad9e58-3ca6-4a3f-94aa-c99fff258203-c000.csv\n",
      "-rw-r--r--   1 guruprasadvk10 supergroup       1896 2024-03-02 17:41 /final_project_hdfs/ml/data/part-00000-4cada266-fdd7-4591-bd13-aa55ca5aaf14-c000.csv\n",
      "-rw-r--r--   1 guruprasadvk10 supergroup       2327 2024-03-02 18:11 /final_project_hdfs/ml/data/part-00000-4d864a1b-e004-49dc-8691-fff64949b7c7-c000.csv\n",
      "-rw-r--r--   1 guruprasadvk10 supergroup       1036 2024-03-02 18:28 /final_project_hdfs/ml/data/part-00000-4dd21cc3-b909-4165-9093-9932b75ace3d-c000.csv\n",
      "-rw-r--r--   1 guruprasadvk10 supergroup       2140 2024-03-02 18:34 /final_project_hdfs/ml/data/part-00000-4ee055d3-f1df-4648-b6d4-e7d2e64289d6-c000.csv\n",
      "-rw-r--r--   1 guruprasadvk10 supergroup       2019 2024-03-02 18:09 /final_project_hdfs/ml/data/part-00000-4f2b6e70-6009-41b7-937f-41bdc4383eed-c000.csv\n",
      "-rw-r--r--   1 guruprasadvk10 supergroup       1804 2024-03-02 17:32 /final_project_hdfs/ml/data/part-00000-4ff197e6-2364-4565-abf8-e6506fba8cee-c000.csv\n",
      "-rw-r--r--   1 guruprasadvk10 supergroup       2166 2024-03-02 18:01 /final_project_hdfs/ml/data/part-00000-5187ea6e-ceed-464e-8e6e-69229b89bd40-c000.csv\n",
      "-rw-r--r--   1 guruprasadvk10 supergroup       2262 2024-03-02 18:09 /final_project_hdfs/ml/data/part-00000-519d97c6-34aa-497f-a50d-778315791248-c000.csv\n",
      "-rw-r--r--   1 guruprasadvk10 supergroup       2232 2024-03-02 18:15 /final_project_hdfs/ml/data/part-00000-52084f24-cae5-4b8f-8898-a15bf2a76670-c000.csv\n",
      "-rw-r--r--   1 guruprasadvk10 supergroup       1215 2024-03-02 17:59 /final_project_hdfs/ml/data/part-00000-5221e220-b38f-4e78-a529-71df1e590c91-c000.csv\n",
      "-rw-r--r--   1 guruprasadvk10 supergroup       1987 2024-03-02 17:33 /final_project_hdfs/ml/data/part-00000-522bf7a3-05a6-4f7c-b313-ccdadd6b8ac0-c000.csv\n",
      "-rw-r--r--   1 guruprasadvk10 supergroup       1396 2024-03-02 17:55 /final_project_hdfs/ml/data/part-00000-5237d31f-5476-46e0-b147-9b3b4978652b-c000.csv\n",
      "-rw-r--r--   1 guruprasadvk10 supergroup       1060 2024-03-02 17:50 /final_project_hdfs/ml/data/part-00000-528867d8-3063-485e-b286-9325fc47f9b6-c000.csv\n",
      "-rw-r--r--   1 guruprasadvk10 supergroup       1802 2024-03-02 18:29 /final_project_hdfs/ml/data/part-00000-547ddbef-3056-4e1c-bdb9-253ab9749210-c000.csv\n",
      "-rw-r--r--   1 guruprasadvk10 supergroup       2407 2024-03-02 18:05 /final_project_hdfs/ml/data/part-00000-5717aa11-5bd3-45a4-bd4a-c55ed9b25fb3-c000.csv\n",
      "-rw-r--r--   1 guruprasadvk10 supergroup       1018 2024-03-02 17:49 /final_project_hdfs/ml/data/part-00000-573bbd11-dece-48ff-b1e3-bddac525ef4e-c000.csv\n",
      "-rw-r--r--   1 guruprasadvk10 supergroup       1374 2024-03-02 18:37 /final_project_hdfs/ml/data/part-00000-57e966cf-b557-4664-83be-a3894f9e0500-c000.csv\n",
      "-rw-r--r--   1 guruprasadvk10 supergroup       1062 2024-03-02 18:14 /final_project_hdfs/ml/data/part-00000-583bd746-5124-49cd-80ee-9859b7ba3de2-c000.csv\n",
      "-rw-r--r--   1 guruprasadvk10 supergroup       2174 2024-03-02 18:36 /final_project_hdfs/ml/data/part-00000-5b0a9e78-9db4-4974-9ab7-1ea9cf248d65-c000.csv\n",
      "-rw-r--r--   1 guruprasadvk10 supergroup       2431 2024-03-02 18:01 /final_project_hdfs/ml/data/part-00000-5c6ac618-8a82-4290-977e-829690a3908e-c000.csv\n",
      "-rw-r--r--   1 guruprasadvk10 supergroup       1233 2024-03-02 17:48 /final_project_hdfs/ml/data/part-00000-5cbdab54-dec7-4327-b8f8-de3f08087de4-c000.csv\n",
      "-rw-r--r--   1 guruprasadvk10 supergroup       1044 2024-03-02 18:08 /final_project_hdfs/ml/data/part-00000-5d4264a7-5669-4867-ad05-bc88836292d6-c000.csv\n",
      "-rw-r--r--   1 guruprasadvk10 supergroup       1078 2024-03-02 18:38 /final_project_hdfs/ml/data/part-00000-5d4bc673-2cb1-4031-b784-d40b41fd6303-c000.csv\n",
      "-rw-r--r--   1 guruprasadvk10 supergroup       2019 2024-03-02 17:39 /final_project_hdfs/ml/data/part-00000-5d833317-be1a-4e55-96f5-dc63c7ea3892-c000.csv\n",
      "-rw-r--r--   1 guruprasadvk10 supergroup        907 2024-03-02 18:24 /final_project_hdfs/ml/data/part-00000-5e46fba5-b752-42d3-88ad-4fa12f6f8e66-c000.csv\n",
      "-rw-r--r--   1 guruprasadvk10 supergroup       1872 2024-03-02 17:42 /final_project_hdfs/ml/data/part-00000-5e6ba35c-06d5-437d-8117-5259306b44d9-c000.csv\n",
      "-rw-r--r--   1 guruprasadvk10 supergroup       1398 2024-03-02 18:25 /final_project_hdfs/ml/data/part-00000-5f83823c-6e7d-4e68-af55-51984ab9c147-c000.csv\n",
      "-rw-r--r--   1 guruprasadvk10 supergroup       1360 2024-03-02 17:39 /final_project_hdfs/ml/data/part-00000-5f8bf3ab-767a-44fd-9e71-0991803c71d0-c000.csv\n",
      "-rw-r--r--   1 guruprasadvk10 supergroup       2204 2024-03-02 17:49 /final_project_hdfs/ml/data/part-00000-5fae93f2-3d73-4431-add6-cf56c4450b02-c000.csv\n",
      "-rw-r--r--   1 guruprasadvk10 supergroup       1957 2024-03-02 18:15 /final_project_hdfs/ml/data/part-00000-5fd06cc0-64ec-4a1f-a5dd-98cc64ad1f89-c000.csv\n",
      "-rw-r--r--   1 guruprasadvk10 supergroup       1366 2024-03-02 18:23 /final_project_hdfs/ml/data/part-00000-60811fda-873d-4ad0-80dc-bc6d5fa62989-c000.csv\n",
      "-rw-r--r--   1 guruprasadvk10 supergroup       1838 2024-03-02 18:11 /final_project_hdfs/ml/data/part-00000-60aafb1d-8979-4a66-a8fe-dfd6fe56e1da-c000.csv\n",
      "-rw-r--r--   1 guruprasadvk10 supergroup       1046 2024-03-02 18:07 /final_project_hdfs/ml/data/part-00000-61a55080-9d44-4072-a874-b977fc6241c7-c000.csv\n",
      "-rw-r--r--   1 guruprasadvk10 supergroup       1030 2024-03-02 17:50 /final_project_hdfs/ml/data/part-00000-63363e14-0f38-48b2-808e-a3ea0043b60a-c000.csv\n",
      "-rw-r--r--   1 guruprasadvk10 supergroup       2218 2024-03-02 17:48 /final_project_hdfs/ml/data/part-00000-64dbd70c-5c3c-4df4-a0e2-a5037cec31bc-c000.csv\n",
      "-rw-r--r--   1 guruprasadvk10 supergroup       1396 2024-03-02 18:13 /final_project_hdfs/ml/data/part-00000-652b9320-4f0d-439a-aa1f-ed55bf97efc0-c000.csv\n",
      "-rw-r--r--   1 guruprasadvk10 supergroup       1074 2024-03-02 18:37 /final_project_hdfs/ml/data/part-00000-658efa39-f4f4-4121-992a-7d0b4e54613f-c000.csv\n",
      "-rw-r--r--   1 guruprasadvk10 supergroup       2138 2024-03-02 18:35 /final_project_hdfs/ml/data/part-00000-66a7efbf-85f0-4f86-9396-a7fbe56a613a-c000.csv\n",
      "-rw-r--r--   1 guruprasadvk10 supergroup       1374 2024-03-02 18:05 /final_project_hdfs/ml/data/part-00000-689d0f40-cce7-4094-8e5c-8acbcfb01e51-c000.csv\n",
      "-rw-r--r--   1 guruprasadvk10 supergroup       1052 2024-03-02 18:05 /final_project_hdfs/ml/data/part-00000-6c2e5bdc-cd6a-4ae6-b37c-c5228d507532-c000.csv\n",
      "-rw-r--r--   1 guruprasadvk10 supergroup       2045 2024-03-02 17:36 /final_project_hdfs/ml/data/part-00000-6c3848f7-f877-4693-9b68-2c38fa682486-c000.csv\n",
      "-rw-r--r--   1 guruprasadvk10 supergroup       1018 2024-03-02 18:03 /final_project_hdfs/ml/data/part-00000-6c5188ae-0e54-48a2-a6c7-4945caa848f6-c000.csv\n",
      "-rw-r--r--   1 guruprasadvk10 supergroup       2254 2024-03-02 18:09 /final_project_hdfs/ml/data/part-00000-6ca71d11-2a4c-4b4b-8e4c-5125ee7de1dc-c000.csv\n",
      "-rw-r--r--   1 guruprasadvk10 supergroup       1382 2024-03-02 18:03 /final_project_hdfs/ml/data/part-00000-6d0b27d6-98ce-460f-bff6-9fe4af3ea2fd-c000.csv\n",
      "-rw-r--r--   1 guruprasadvk10 supergroup       1800 2024-03-02 17:41 /final_project_hdfs/ml/data/part-00000-6d34ce1c-732d-4928-ab68-70cf0d95b151-c000.csv\n",
      "-rw-r--r--   1 guruprasadvk10 supergroup       1392 2024-03-02 18:32 /final_project_hdfs/ml/data/part-00000-6d94894a-78d0-412d-8de5-5f954026f1f5-c000.csv\n",
      "-rw-r--r--   1 guruprasadvk10 supergroup       1868 2024-03-02 18:29 /final_project_hdfs/ml/data/part-00000-6d94bbc0-7afc-4537-b80e-5c5fdd046a39-c000.csv\n",
      "-rw-r--r--   1 guruprasadvk10 supergroup       1969 2024-03-02 17:45 /final_project_hdfs/ml/data/part-00000-6e625955-ac98-4ad9-949a-ead2f73a485c-c000.csv\n",
      "-rw-r--r--   1 guruprasadvk10 supergroup       2367 2024-03-02 18:15 /final_project_hdfs/ml/data/part-00000-6f067af7-3cd1-4cdc-8ed0-6adc7e422ef0-c000.csv\n",
      "-rw-r--r--   1 guruprasadvk10 supergroup       1390 2024-03-02 17:43 /final_project_hdfs/ml/data/part-00000-6fb84971-baa5-4d01-a882-a98c4bdbd94a-c000.csv\n",
      "-rw-r--r--   1 guruprasadvk10 supergroup       2148 2024-03-02 18:34 /final_project_hdfs/ml/data/part-00000-6fba2f05-eea1-4794-838f-0457952e6dad-c000.csv\n",
      "-rw-r--r--   1 guruprasadvk10 supergroup       2399 2024-03-02 18:27 /final_project_hdfs/ml/data/part-00000-708f5f5d-4206-493b-9671-9b29e59a99ad-c000.csv\n",
      "-rw-r--r--   1 guruprasadvk10 supergroup       2039 2024-03-02 18:33 /final_project_hdfs/ml/data/part-00000-7122de5e-71df-4e72-9494-7cf90bb0629c-c000.csv\n",
      "-rw-r--r--   1 guruprasadvk10 supergroup       1816 2024-03-02 17:40 /final_project_hdfs/ml/data/part-00000-7190105c-40f7-4bdc-aa90-0e630a73c7e7-c000.csv\n",
      "-rw-r--r--   1 guruprasadvk10 supergroup       2208 2024-03-02 17:33 /final_project_hdfs/ml/data/part-00000-72e14ef4-9283-48c5-8dca-87d2eb2fb868-c000.csv\n",
      "-rw-r--r--   1 guruprasadvk10 supergroup       2164 2024-03-02 18:16 /final_project_hdfs/ml/data/part-00000-734e27ee-cec7-446f-82a3-98337c67c459-c000.csv\n",
      "-rw-r--r--   1 guruprasadvk10 supergroup       1963 2024-03-02 17:29 /final_project_hdfs/ml/data/part-00000-73c07684-b3b4-493e-a2d6-7fe2d9e55599-c000.csv\n",
      "-rw-r--r--   1 guruprasadvk10 supergroup       1382 2024-03-02 18:02 /final_project_hdfs/ml/data/part-00000-7447af4a-56f9-464e-aa73-e570e3d4af91-c000.csv\n",
      "-rw-r--r--   1 guruprasadvk10 supergroup       2658 2024-03-02 18:21 /final_project_hdfs/ml/data/part-00000-7467a5ea-441d-4bf0-b108-3f941995a7b3-c000.csv\n",
      "-rw-r--r--   1 guruprasadvk10 supergroup       2411 2024-03-02 17:54 /final_project_hdfs/ml/data/part-00000-75408608-ffab-421e-8079-a43818226d1a-c000.csv\n",
      "-rw-r--r--   1 guruprasadvk10 supergroup        871 2024-03-02 17:48 /final_project_hdfs/ml/data/part-00000-7564e4f7-dd73-4f6f-b165-5c141c891c28-c000.csv\n",
      "-rw-r--r--   1 guruprasadvk10 supergroup       1452 2024-03-02 18:13 /final_project_hdfs/ml/data/part-00000-75c30af7-2dcd-4f2d-96c8-ff5ef42bf054-c000.csv\n",
      "-rw-r--r--   1 guruprasadvk10 supergroup       1987 2024-03-02 17:30 /final_project_hdfs/ml/data/part-00000-7764bea8-3178-4f4d-9d95-d5abcf4599bb-c000.csv\n",
      "-rw-r--r--   1 guruprasadvk10 supergroup       2447 2024-03-02 18:07 /final_project_hdfs/ml/data/part-00000-7802e7a6-9eaf-465a-a39c-b2a971c2fd59-c000.csv\n",
      "-rw-r--r--   1 guruprasadvk10 supergroup       1098 2024-03-02 18:11 /final_project_hdfs/ml/data/part-00000-78c8f717-c56a-4417-9a2f-53be6a343a5c-c000.csv\n",
      "-rw-r--r--   1 guruprasadvk10 supergroup       1062 2024-03-02 18:13 /final_project_hdfs/ml/data/part-00000-793f2069-37c3-44c8-b2ae-9ea955c89906-c000.csv\n",
      "-rw-r--r--   1 guruprasadvk10 supergroup       2262 2024-03-02 18:09 /final_project_hdfs/ml/data/part-00000-7a1cab39-ac86-4b01-9fae-a93759e35cc2-c000.csv\n",
      "-rw-r--r--   1 guruprasadvk10 supergroup       2232 2024-03-02 18:00 /final_project_hdfs/ml/data/part-00000-7a322204-93c9-47d9-a97e-f53da1054d2a-c000.csv\n",
      "-rw-r--r--   1 guruprasadvk10 supergroup       2351 2024-03-02 17:56 /final_project_hdfs/ml/data/part-00000-7a90a99c-9a30-494f-8a91-15fc5d822655-c000.csv\n",
      "-rw-r--r--   1 guruprasadvk10 supergroup        847 2024-03-02 17:34 /final_project_hdfs/ml/data/part-00000-7a90cd35-87df-485e-b29c-2837d4a2c6a3-c000.csv\n",
      "-rw-r--r--   1 guruprasadvk10 supergroup       2039 2024-03-02 18:36 /final_project_hdfs/ml/data/part-00000-7ac12dd3-e66b-4e76-be57-7e9d84968b9d-c000.csv\n",
      "-rw-r--r--   1 guruprasadvk10 supergroup       1376 2024-03-02 18:27 /final_project_hdfs/ml/data/part-00000-7b012d6b-d600-4da9-b0a6-785e4a99c7e1-c000.csv\n",
      "-rw-r--r--   1 guruprasadvk10 supergroup       2377 2024-03-02 17:59 /final_project_hdfs/ml/data/part-00000-7b46a50a-563e-44e7-9c6f-3a86cb638078-c000.csv\n",
      "-rw-r--r--   1 guruprasadvk10 supergroup        835 2024-03-02 18:14 /final_project_hdfs/ml/data/part-00000-7b5fa856-5ac4-4f88-9c06-bcb9d348792c-c000.csv\n",
      "-rw-r--r--   1 guruprasadvk10 supergroup       2160 2024-03-02 18:05 /final_project_hdfs/ml/data/part-00000-7bd42fcc-e7e3-4fb2-9640-773a7a655d6f-c000.csv\n",
      "-rw-r--r--   1 guruprasadvk10 supergroup       2403 2024-03-02 18:28 /final_project_hdfs/ml/data/part-00000-7cf8dbb7-9acc-4f48-84e5-7128dd9a4cbf-c000.csv\n",
      "-rw-r--r--   1 guruprasadvk10 supergroup       1068 2024-03-02 18:35 /final_project_hdfs/ml/data/part-00000-7d4017ea-439c-4342-9b44-35914c5f6025-c000.csv\n",
      "-rw-r--r--   1 guruprasadvk10 supergroup       2172 2024-03-02 18:39 /final_project_hdfs/ml/data/part-00000-80d21951-83ad-4562-97b6-a96094be8a80-c000.csv\n",
      "-rw-r--r--   1 guruprasadvk10 supergroup       1076 2024-03-02 18:25 /final_project_hdfs/ml/data/part-00000-8118f4f0-c1b9-4cc3-9251-08f94b38b5bb-c000.csv\n",
      "-rw-r--r--   1 guruprasadvk10 supergroup       1026 2024-03-02 17:43 /final_project_hdfs/ml/data/part-00000-81334467-1b05-4f0f-8abc-9f7f7a4d837d-c000.csv\n",
      "-rw-r--r--   1 guruprasadvk10 supergroup       1197 2024-03-02 18:10 /final_project_hdfs/ml/data/part-00000-8268b0d9-54aa-4e8a-92f7-4f15e664c60b-c000.csv\n",
      "-rw-r--r--   1 guruprasadvk10 supergroup        859 2024-03-02 18:26 /final_project_hdfs/ml/data/part-00000-835557cb-5972-490f-81b9-4ebb2d13c2c7-c000.csv\n",
      "-rw-r--r--   1 guruprasadvk10 supergroup       1020 2024-03-02 17:51 /final_project_hdfs/ml/data/part-00000-835d7837-35c5-4e34-b944-4416739cc812-c000.csv\n",
      "-rw-r--r--   1 guruprasadvk10 supergroup       2517 2024-03-02 18:23 /final_project_hdfs/ml/data/part-00000-84343867-9e3c-443c-9f54-5359ffe9bf3b-c000.csv\n",
      "-rw-r--r--   1 guruprasadvk10 supergroup       1378 2024-03-02 17:42 /final_project_hdfs/ml/data/part-00000-8465ce46-6e5e-4459-8265-9c244326df66-c000.csv\n",
      "-rw-r--r--   1 guruprasadvk10 supergroup       2423 2024-03-02 17:34 /final_project_hdfs/ml/data/part-00000-84bfb5a5-6251-4199-884c-31bcd15f17ba-c000.csv\n",
      "-rw-r--r--   1 guruprasadvk10 supergroup       2027 2024-03-02 18:13 /final_project_hdfs/ml/data/part-00000-854e4357-01dc-4179-b355-d060b734c6e2-c000.csv\n",
      "-rw-r--r--   1 guruprasadvk10 supergroup       1046 2024-03-02 17:40 /final_project_hdfs/ml/data/part-00000-8654b196-437d-4c3e-aa99-5e58937e33dc-c000.csv\n",
      "-rw-r--r--   1 guruprasadvk10 supergroup       2218 2024-03-02 17:49 /final_project_hdfs/ml/data/part-00000-86e16c68-92e0-4a24-905e-9077881bdcaa-c000.csv\n",
      "-rw-r--r--   1 guruprasadvk10 supergroup       1798 2024-03-02 17:41 /final_project_hdfs/ml/data/part-00000-870ca8a3-a3e3-440e-b21e-c25a8eab8739-c000.csv\n",
      "-rw-r--r--   1 guruprasadvk10 supergroup       1852 2024-03-02 18:10 /final_project_hdfs/ml/data/part-00000-874512fb-190b-49e4-a246-8aa5c1a8a3ea-c000.csv\n",
      "-rw-r--r--   1 guruprasadvk10 supergroup       2483 2024-03-02 18:24 /final_project_hdfs/ml/data/part-00000-8764701d-7261-4225-ad9f-ac8c466533d1-c000.csv\n",
      "-rw-r--r--   1 guruprasadvk10 supergroup       2031 2024-03-02 18:09 /final_project_hdfs/ml/data/part-00000-89c51855-3412-4aed-afb3-2f1d12475920-c000.csv\n",
      "-rw-r--r--   1 guruprasadvk10 supergroup       2361 2024-03-02 17:33 /final_project_hdfs/ml/data/part-00000-8c1b55aa-2bcf-490c-b43f-01d275075829-c000.csv\n",
      "-rw-r--r--   1 guruprasadvk10 supergroup       2214 2024-03-02 18:01 /final_project_hdfs/ml/data/part-00000-8c2a9033-4a8f-4f2b-9ce2-e74e5bba716f-c000.csv\n",
      "-rw-r--r--   1 guruprasadvk10 supergroup       2192 2024-03-02 18:38 /final_project_hdfs/ml/data/part-00000-8cb75e95-31b0-4b94-bbee-67993957d231-c000.csv\n",
      "-rw-r--r--   1 guruprasadvk10 supergroup       1068 2024-03-02 17:54 /final_project_hdfs/ml/data/part-00000-8d07c8d6-81e4-4fe3-b939-27b06cc62ba9-c000.csv\n",
      "-rw-r--r--   1 guruprasadvk10 supergroup       2210 2024-03-02 18:04 /final_project_hdfs/ml/data/part-00000-8d44aca5-17ec-4c01-bb58-aadad5e4630f-c000.csv\n",
      "-rw-r--r--   1 guruprasadvk10 supergroup       1402 2024-03-02 17:45 /final_project_hdfs/ml/data/part-00000-8d6e3b89-67ab-4ffa-87bd-7c57f619220f-c000.csv\n",
      "-rw-r--r--   1 guruprasadvk10 supergroup       2176 2024-03-02 18:06 /final_project_hdfs/ml/data/part-00000-8d75134a-c973-4270-955f-33f7a541f6a0-c000.csv\n",
      "-rw-r--r--   1 guruprasadvk10 supergroup       1233 2024-03-02 17:31 /final_project_hdfs/ml/data/part-00000-8ebdc9c0-ef4f-4b9d-bb1a-591aa7f50861-c000.csv\n",
      "-rw-r--r--   1 guruprasadvk10 supergroup       1963 2024-03-02 17:44 /final_project_hdfs/ml/data/part-00000-8f2e05ed-825e-4161-bad2-874b88b6aa11-c000.csv\n",
      "-rw-r--r--   1 guruprasadvk10 supergroup       2475 2024-03-02 18:22 /final_project_hdfs/ml/data/part-00000-8f77cde7-b204-4410-b17a-c4b08dde32e3-c000.csv\n",
      "-rw-r--r--   1 guruprasadvk10 supergroup       1082 2024-03-02 18:23 /final_project_hdfs/ml/data/part-00000-8fa8b678-06e2-47f7-9fb2-4f48f4558121-c000.csv\n",
      "-rw-r--r--   1 guruprasadvk10 supergroup       1012 2024-03-02 17:41 /final_project_hdfs/ml/data/part-00000-9128c480-9e1c-421a-b622-8acee6d6a8fd-c000.csv\n",
      "-rw-r--r--   1 guruprasadvk10 supergroup       1058 2024-03-02 17:58 /final_project_hdfs/ml/data/part-00000-91532b8e-ef5e-4c35-8648-02205a3d4e65-c000.csv\n",
      "-rw-r--r--   1 guruprasadvk10 supergroup       2264 2024-03-02 18:10 /final_project_hdfs/ml/data/part-00000-920825af-1b26-4470-9e47-5256a265ce9c-c000.csv\n",
      "-rw-r--r--   1 guruprasadvk10 supergroup       1402 2024-03-02 18:19 /final_project_hdfs/ml/data/part-00000-924d61c4-c218-40ba-a2d9-043b7b4f60e4-c000.csv\n",
      "-rw-r--r--   1 guruprasadvk10 supergroup       1394 2024-03-02 17:45 /final_project_hdfs/ml/data/part-00000-92a0b5b2-6179-4ebb-a279-2f6abd83cdb0-c000.csv\n",
      "-rw-r--r--   1 guruprasadvk10 supergroup        907 2024-03-02 17:36 /final_project_hdfs/ml/data/part-00000-9301f9c0-6c2e-455b-a8dd-93293242b17a-c000.csv\n",
      "-rw-r--r--   1 guruprasadvk10 supergroup       2031 2024-03-02 18:10 /final_project_hdfs/ml/data/part-00000-93e4e6f5-d031-4433-bc32-04a28ec9e7b4-c000.csv\n",
      "-rw-r--r--   1 guruprasadvk10 supergroup       2210 2024-03-02 18:28 /final_project_hdfs/ml/data/part-00000-945efed1-5719-4d31-8e20-22173c7c2609-c000.csv\n",
      "-rw-r--r--   1 guruprasadvk10 supergroup       1247 2024-03-02 18:20 /final_project_hdfs/ml/data/part-00000-947661dc-9ebd-4c63-9e6f-82fe05e85bbe-c000.csv\n",
      "-rw-r--r--   1 guruprasadvk10 supergroup       1378 2024-03-02 18:18 /final_project_hdfs/ml/data/part-00000-951e6489-bc11-4030-a808-1d20634d176e-c000.csv\n",
      "-rw-r--r--   1 guruprasadvk10 supergroup       1838 2024-03-02 18:31 /final_project_hdfs/ml/data/part-00000-9541f03d-8ca0-400c-8400-b126bcb5c10a-c000.csv\n",
      "-rw-r--r--   1 guruprasadvk10 supergroup       2160 2024-03-02 17:34 /final_project_hdfs/ml/data/part-00000-9577aa9c-538a-4422-9e3d-6066f8574c3b-c000.csv\n",
      "-rw-r--r--   1 guruprasadvk10 supergroup       2282 2024-03-02 17:37 /final_project_hdfs/ml/data/part-00000-969e080d-ea85-4667-8917-9a01ebdfec52-c000.csv\n",
      "-rw-r--r--   1 guruprasadvk10 supergroup       2431 2024-03-02 18:01 /final_project_hdfs/ml/data/part-00000-972ded93-7963-4fad-a87d-77c7d2e66329-c000.csv\n",
      "-rw-r--r--   1 guruprasadvk10 supergroup       1959 2024-03-02 17:44 /final_project_hdfs/ml/data/part-00000-977d5b36-366e-4374-9bca-bda69e1f9d62-c000.csv\n",
      "-rw-r--r--   1 guruprasadvk10 supergroup       1012 2024-03-02 17:29 /final_project_hdfs/ml/data/part-00000-9781b0b4-c33f-4466-8626-ace47954f3d2-c000.csv\n",
      "-rw-r--r--   1 guruprasadvk10 supergroup       2039 2024-03-02 17:32 /final_project_hdfs/ml/data/part-00000-98f1e43d-23a2-4ff1-8eaa-d1b39745e2b9-c000.csv\n",
      "-rw-r--r--   1 guruprasadvk10 supergroup       1969 2024-03-02 18:26 /final_project_hdfs/ml/data/part-00000-991d1cdd-e7b7-4e77-8ffd-b9a2a50cac37-c000.csv\n",
      "-rw-r--r--   1 guruprasadvk10 supergroup       2017 2024-03-02 17:33 /final_project_hdfs/ml/data/part-00000-9a6978f9-e70e-4522-b393-8b0d305c87ce-c000.csv\n",
      "-rw-r--r--   1 guruprasadvk10 supergroup       1243 2024-03-02 17:57 /final_project_hdfs/ml/data/part-00000-9adc415c-ddef-4695-9218-eed54cb35a57-c000.csv\n",
      "-rw-r--r--   1 guruprasadvk10 supergroup       2172 2024-03-02 17:35 /final_project_hdfs/ml/data/part-00000-9af188d0-2a34-4646-a512-7b9b9544f84d-c000.csv\n",
      "-rw-r--r--   1 guruprasadvk10 supergroup        929 2024-03-02 17:46 /final_project_hdfs/ml/data/part-00000-9dc6acdb-f285-4345-8e0f-0c6cb6c35104-c000.csv\n",
      "-rw-r--r--   1 guruprasadvk10 supergroup        905 2024-03-02 17:59 /final_project_hdfs/ml/data/part-00000-9e5ef672-63ef-46b9-a89a-7a7ee3192ee3-c000.csv\n",
      "-rw-r--r--   1 guruprasadvk10 supergroup       2156 2024-03-02 17:47 /final_project_hdfs/ml/data/part-00000-9e754a1d-9303-4b25-a4e5-30c09fbac23d-c000.csv\n",
      "-rw-r--r--   1 guruprasadvk10 supergroup       1076 2024-03-02 17:38 /final_project_hdfs/ml/data/part-00000-9ef1d3c1-3b05-4ea3-932c-52431d62797f-c000.csv\n",
      "-rw-r--r--   1 guruprasadvk10 supergroup       1989 2024-03-02 17:52 /final_project_hdfs/ml/data/part-00000-9f1248df-7197-43f4-8a44-756e0163b810-c000.csv\n",
      "-rw-r--r--   1 guruprasadvk10 supergroup       1442 2024-03-02 17:52 /final_project_hdfs/ml/data/part-00000-9fba9020-725d-44fa-ad3c-572ee497cbd4-c000.csv\n",
      "-rw-r--r--   1 guruprasadvk10 supergroup       2037 2024-03-02 17:59 /final_project_hdfs/ml/data/part-00000-9fe3b755-36b5-467c-9327-110982347646-c000.csv\n",
      "-rw-r--r--   1 guruprasadvk10 supergroup       1018 2024-03-02 18:03 /final_project_hdfs/ml/data/part-00000-a0dd9273-3b13-41f9-9e69-b93a8cf7c36e-c000.csv\n",
      "-rw-r--r--   1 guruprasadvk10 supergroup       2156 2024-03-02 18:30 /final_project_hdfs/ml/data/part-00000-a0fe5aec-87e4-4f45-a30b-80c31e941693-c000.csv\n",
      "-rw-r--r--   1 guruprasadvk10 supergroup       2244 2024-03-02 17:51 /final_project_hdfs/ml/data/part-00000-a10d035f-4955-479a-8519-96d3fb2f2fdf-c000.csv\n",
      "-rw-r--r--   1 guruprasadvk10 supergroup       1054 2024-03-02 17:57 /final_project_hdfs/ml/data/part-00000-a2e3394b-8a9a-4819-a681-a58ff561e29e-c000.csv\n",
      "-rw-r--r--   1 guruprasadvk10 supergroup       2168 2024-03-02 18:35 /final_project_hdfs/ml/data/part-00000-a352ce30-df98-4845-afbb-f6e6ea9889e4-c000.csv\n",
      "-rw-r--r--   1 guruprasadvk10 supergroup       2206 2024-03-02 17:50 /final_project_hdfs/ml/data/part-00000-a5fb643c-5a61-4437-8f72-ce1be2b349bf-c000.csv\n",
      "-rw-r--r--   1 guruprasadvk10 supergroup       2162 2024-03-02 17:48 /final_project_hdfs/ml/data/part-00000-a61c7a71-3c16-4d9e-8c6e-c7ae257865f7-c000.csv\n",
      "-rw-r--r--   1 guruprasadvk10 supergroup       2319 2024-03-02 18:22 /final_project_hdfs/ml/data/part-00000-a78027e3-f6c5-40f5-b7ed-58cc83cd667f-c000.csv\n",
      "-rw-r--r--   1 guruprasadvk10 supergroup       1386 2024-03-02 18:00 /final_project_hdfs/ml/data/part-00000-a919576e-c5fb-4dc6-b40a-9b1ee69c436f-c000.csv\n",
      "-rw-r--r--   1 guruprasadvk10 supergroup       1822 2024-03-02 18:06 /final_project_hdfs/ml/data/part-00000-a9a97a94-640b-4bad-8c8c-446813a63f27-c000.csv\n",
      "-rw-r--r--   1 guruprasadvk10 supergroup        925 2024-03-02 18:35 /final_project_hdfs/ml/data/part-00000-a9cdb28a-e250-4d53-a605-4e2d9ea2608a-c000.csv\n",
      "-rw-r--r--   1 guruprasadvk10 supergroup       1834 2024-03-02 18:06 /final_project_hdfs/ml/data/part-00000-aa760931-8254-400c-a945-4553ec1a3ca6-c000.csv\n",
      "-rw-r--r--   1 guruprasadvk10 supergroup       1382 2024-03-02 18:04 /final_project_hdfs/ml/data/part-00000-abf8ae4e-29d7-4dd0-b7ef-676cc92230f1-c000.csv\n",
      "-rw-r--r--   1 guruprasadvk10 supergroup       1406 2024-03-02 18:33 /final_project_hdfs/ml/data/part-00000-acf6fa31-ee82-4509-b3c6-ad055616d811-c000.csv\n",
      "-rw-r--r--   1 guruprasadvk10 supergroup       1376 2024-03-02 18:03 /final_project_hdfs/ml/data/part-00000-ad5c2fda-e9fd-44dd-9550-dfe753764349-c000.csv\n",
      "-rw-r--r--   1 guruprasadvk10 supergroup        907 2024-03-02 17:37 /final_project_hdfs/ml/data/part-00000-ad9573df-43a4-4f6f-85f6-4df1a36b8115-c000.csv\n",
      "-rw-r--r--   1 guruprasadvk10 supergroup       1243 2024-03-02 17:56 /final_project_hdfs/ml/data/part-00000-adcc25b1-bca1-4fde-b2da-37bc080f54ac-c000.csv\n",
      "-rw-r--r--   1 guruprasadvk10 supergroup       1400 2024-03-02 17:46 /final_project_hdfs/ml/data/part-00000-adea81c8-3f6b-4bb2-ba0a-a7263df5ae0c-c000.csv\n",
      "-rw-r--r--   1 guruprasadvk10 supergroup       1088 2024-03-02 18:08 /final_project_hdfs/ml/data/part-00000-ae38946a-1a09-4a22-9d60-c9dd3aef97d4-c000.csv\n",
      "-rw-r--r--   1 guruprasadvk10 supergroup       2327 2024-03-02 18:11 /final_project_hdfs/ml/data/part-00000-af94ff06-04bc-42df-8c82-512f6ed25050-c000.csv\n",
      "-rw-r--r--   1 guruprasadvk10 supergroup       2164 2024-03-02 18:16 /final_project_hdfs/ml/data/part-00000-b1a598e4-7871-40ea-a4f1-341793c05bb5-c000.csv\n",
      "-rw-r--r--   1 guruprasadvk10 supergroup        849 2024-03-02 18:00 /final_project_hdfs/ml/data/part-00000-b1af47f0-5f2c-4238-b6f0-1893b37ea962-c000.csv\n",
      "-rw-r--r--   1 guruprasadvk10 supergroup       1965 2024-03-02 18:27 /final_project_hdfs/ml/data/part-00000-b29347f7-e018-48bc-8519-2af51fbab5d7-c000.csv\n",
      "-rw-r--r--   1 guruprasadvk10 supergroup       1376 2024-03-02 17:31 /final_project_hdfs/ml/data/part-00000-b315c222-7d5b-45db-a0a0-fee674408b6b-c000.csv\n",
      "-rw-r--r--   1 guruprasadvk10 supergroup       2178 2024-03-02 18:37 /final_project_hdfs/ml/data/part-00000-b32987d3-ddcd-4861-8b74-ad4042a5d16a-c000.csv\n",
      "-rw-r--r--   1 guruprasadvk10 supergroup        861 2024-03-02 17:59 /final_project_hdfs/ml/data/part-00000-b33b6044-46bc-4dc7-94c7-5bc033fc4fa8-c000.csv\n",
      "-rw-r--r--   1 guruprasadvk10 supergroup       2154 2024-03-02 18:02 /final_project_hdfs/ml/data/part-00000-b39db4f9-1789-4b2e-86a4-f72dc1eb2ab3-c000.csv\n",
      "-rw-r--r--   1 guruprasadvk10 supergroup       1048 2024-03-02 17:34 /final_project_hdfs/ml/data/part-00000-b3a09a51-4976-44d0-874d-2d795fe60449-c000.csv\n",
      "-rw-r--r--   1 guruprasadvk10 supergroup       1018 2024-03-02 18:05 /final_project_hdfs/ml/data/part-00000-b3cf208d-000f-4837-953f-b968b5954852-c000.csv\n",
      "-rw-r--r--   1 guruprasadvk10 supergroup       2001 2024-03-02 17:53 /final_project_hdfs/ml/data/part-00000-b4266b1a-5711-4424-8730-41ca32dbc65f-c000.csv\n",
      "-rw-r--r--   1 guruprasadvk10 supergroup       1030 2024-03-02 18:19 /final_project_hdfs/ml/data/part-00000-b44d659d-a6b0-4174-973f-0f03c4d4e7af-c000.csv\n",
      "-rw-r--r--   1 guruprasadvk10 supergroup       2031 2024-03-02 17:46 /final_project_hdfs/ml/data/part-00000-b5551868-8d64-44de-85e4-a879c395b3a0-c000.csv\n",
      "-rw-r--r--   1 guruprasadvk10 supergroup       1098 2024-03-02 18:22 /final_project_hdfs/ml/data/part-00000-b5cee4b2-f871-435b-8750-fadb620d2d4c-c000.csv\n",
      "-rw-r--r--   1 guruprasadvk10 supergroup       2188 2024-03-02 18:37 /final_project_hdfs/ml/data/part-00000-b789c237-61c3-4864-ae71-7e5eb80a21b4-c000.csv\n",
      "-rw-r--r--   1 guruprasadvk10 supergroup       1237 2024-03-02 18:31 /final_project_hdfs/ml/data/part-00000-b8282f3f-ab46-4032-a392-8153e1514a57-c000.csv\n",
      "-rw-r--r--   1 guruprasadvk10 supergroup       1044 2024-03-02 17:57 /final_project_hdfs/ml/data/part-00000-b88417d5-b23c-4261-bb7e-12360991656d-c000.csv\n",
      "-rw-r--r--   1 guruprasadvk10 supergroup       1382 2024-03-02 17:32 /final_project_hdfs/ml/data/part-00000-b90df10d-0592-42e6-9872-69d042e950ea-c000.csv\n",
      "-rw-r--r--   1 guruprasadvk10 supergroup       1098 2024-03-02 18:21 /final_project_hdfs/ml/data/part-00000-b93463e7-4c35-45e6-9629-f8cb3c0c8554-c000.csv\n",
      "-rw-r--r--   1 guruprasadvk10 supergroup       1398 2024-03-02 18:25 /final_project_hdfs/ml/data/part-00000-ba856e4e-40a4-4cb4-b360-1c283a70e93f-c000.csv\n",
      "-rw-r--r--   1 guruprasadvk10 supergroup       2210 2024-03-02 18:04 /final_project_hdfs/ml/data/part-00000-bb8c736d-8a19-43ca-8127-8e481bc4047b-c000.csv\n",
      "-rw-r--r--   1 guruprasadvk10 supergroup       1120 2024-03-02 18:38 /final_project_hdfs/ml/data/part-00000-bc6df8ba-51e3-4cd4-af75-249ced40b61f-c000.csv\n",
      "-rw-r--r--   1 guruprasadvk10 supergroup       1372 2024-03-02 18:38 /final_project_hdfs/ml/data/part-00000-bc9539f2-2528-4d55-970c-f5453aec232d-c000.csv\n",
      "-rw-r--r--   1 guruprasadvk10 supergroup       2041 2024-03-02 17:31 /final_project_hdfs/ml/data/part-00000-be0e131b-d3fa-4254-83c1-199c2f3777d3-c000.csv\n",
      "-rw-r--r--   1 guruprasadvk10 supergroup       1368 2024-03-02 17:38 /final_project_hdfs/ml/data/part-00000-be90a682-4602-4488-bbfa-3d43e9e96476-c000.csv\n",
      "-rw-r--r--   1 guruprasadvk10 supergroup        907 2024-03-02 17:36 /final_project_hdfs/ml/data/part-00000-bff5c033-c88d-4d53-9fe8-602f0a0657d0-c000.csv\n",
      "-rw-r--r--   1 guruprasadvk10 supergroup       1213 2024-03-02 18:07 /final_project_hdfs/ml/data/part-00000-c02291b5-5ac2-45af-b5c6-02558ab32b64-c000.csv\n",
      "-rw-r--r--   1 guruprasadvk10 supergroup       1030 2024-03-02 18:37 /final_project_hdfs/ml/data/part-00000-c0259637-0b2d-4b95-b5c8-942459f0c22d-c000.csv\n",
      "-rw-r--r--   1 guruprasadvk10 supergroup       2009 2024-03-02 17:58 /final_project_hdfs/ml/data/part-00000-c04937c9-df88-4867-8b14-e2230e6a9a4c-c000.csv\n",
      "-rw-r--r--   1 guruprasadvk10 supergroup       2377 2024-03-02 18:02 /final_project_hdfs/ml/data/part-00000-c06ab6f6-55eb-4ab1-b3e6-d1b6b5b709b9-c000.csv\n",
      "-rw-r--r--   1 guruprasadvk10 supergroup       1378 2024-03-02 17:43 /final_project_hdfs/ml/data/part-00000-c0b69c37-1ebc-48c7-8821-0b81ba565ab0-c000.csv\n",
      "-rw-r--r--   1 guruprasadvk10 supergroup       2160 2024-03-02 18:16 /final_project_hdfs/ml/data/part-00000-c0e7db2d-aacb-4ae5-b822-d3e6a338037a-c000.csv\n",
      "-rw-r--r--   1 guruprasadvk10 supergroup       2172 2024-03-02 18:27 /final_project_hdfs/ml/data/part-00000-c1b4c24f-086d-4c4f-822d-26b91a034a5e-c000.csv\n",
      "-rw-r--r--   1 guruprasadvk10 supergroup       2429 2024-03-02 18:31 /final_project_hdfs/ml/data/part-00000-c2cb7537-1aed-43c1-b050-7f3906d64c0d-c000.csv\n",
      "-rw-r--r--   1 guruprasadvk10 supergroup        861 2024-03-02 17:59 /final_project_hdfs/ml/data/part-00000-c2e364c6-00e5-45d8-9358-d7f85152217e-c000.csv\n",
      "-rw-r--r--   1 guruprasadvk10 supergroup       1102 2024-03-02 18:32 /final_project_hdfs/ml/data/part-00000-c382f9bc-a1fa-4519-88cf-b986b0d1da9e-c000.csv\n",
      "-rw-r--r--   1 guruprasadvk10 supergroup        869 2024-03-02 18:00 /final_project_hdfs/ml/data/part-00000-c3a5f6fc-a801-4a00-b267-ce5d5f288f98-c000.csv\n",
      "-rw-r--r--   1 guruprasadvk10 supergroup       2309 2024-03-02 18:22 /final_project_hdfs/ml/data/part-00000-c3e05229-934f-4c8e-933f-93a659ed1115-c000.csv\n",
      "-rw-r--r--   1 guruprasadvk10 supergroup       1076 2024-03-02 17:39 /final_project_hdfs/ml/data/part-00000-c4b7b3c6-97be-4d1d-b790-c87f87dc6f41-c000.csv\n",
      "-rw-r--r--   1 guruprasadvk10 supergroup       1814 2024-03-02 17:42 /final_project_hdfs/ml/data/part-00000-c4fe2f95-3da8-4e68-a5d1-1191fe896913-c000.csv\n",
      "-rw-r--r--   1 guruprasadvk10 supergroup       1239 2024-03-02 18:31 /final_project_hdfs/ml/data/part-00000-c5a7c7c7-e47a-406e-81f8-1f20764886a7-c000.csv\n",
      "-rw-r--r--   1 guruprasadvk10 supergroup       1070 2024-03-02 17:35 /final_project_hdfs/ml/data/part-00000-c5bbdad4-dee8-49d5-99d0-3acc2687b7bf-c000.csv\n",
      "-rw-r--r--   1 guruprasadvk10 supergroup       1965 2024-03-02 18:26 /final_project_hdfs/ml/data/part-00000-c63bae53-13d3-422e-a2a4-b906f21edc10-c000.csv\n",
      "-rw-r--r--   1 guruprasadvk10 supergroup       2363 2024-03-02 18:17 /final_project_hdfs/ml/data/part-00000-c6912c0b-c7bc-403d-8308-9ec4666f4cfb-c000.csv\n",
      "-rw-r--r--   1 guruprasadvk10 supergroup       2154 2024-03-02 17:48 /final_project_hdfs/ml/data/part-00000-c6db1254-5e6f-4574-8426-a5da3ac6d460-c000.csv\n",
      "-rw-r--r--   1 guruprasadvk10 supergroup       2433 2024-03-02 18:26 /final_project_hdfs/ml/data/part-00000-c74f4c29-559c-493d-b83b-25b68dae9b34-c000.csv\n",
      "-rw-r--r--   1 guruprasadvk10 supergroup       1987 2024-03-02 17:55 /final_project_hdfs/ml/data/part-00000-c7d3ed27-c4e5-4ee3-aed8-89a8d36d2cd0-c000.csv\n",
      "-rw-r--r--   1 guruprasadvk10 supergroup       2039 2024-03-02 18:20 /final_project_hdfs/ml/data/part-00000-c8d9288d-9420-4a4a-8298-45042d506715-c000.csv\n",
      "-rw-r--r--   1 guruprasadvk10 supergroup       1436 2024-03-02 17:41 /final_project_hdfs/ml/data/part-00000-c9778185-0b97-4b93-8953-fb769d510807-c000.csv\n",
      "-rw-r--r--   1 guruprasadvk10 supergroup       1066 2024-03-02 18:13 /final_project_hdfs/ml/data/part-00000-ca020a18-2757-421f-8cb1-1ee758f49c66-c000.csv\n",
      "-rw-r--r--   1 guruprasadvk10 supergroup       2067 2024-03-02 18:22 /final_project_hdfs/ml/data/part-00000-ca2de434-804e-40d5-a366-32ac44ca7356-c000.csv\n",
      "-rw-r--r--   1 guruprasadvk10 supergroup       2363 2024-03-02 18:18 /final_project_hdfs/ml/data/part-00000-cad21a0d-49f6-4ad2-b40a-249bd50b24f0-c000.csv\n",
      "-rw-r--r--   1 guruprasadvk10 supergroup       1396 2024-03-02 17:33 /final_project_hdfs/ml/data/part-00000-cb71c50b-0bd1-42a3-9056-0a4a55d9afcd-c000.csv\n",
      "-rw-r--r--   1 guruprasadvk10 supergroup       1400 2024-03-02 17:46 /final_project_hdfs/ml/data/part-00000-cbf3f242-8266-439d-b121-1303a1aa2221-c000.csv\n",
      "-rw-r--r--   1 guruprasadvk10 supergroup       1394 2024-03-02 18:38 /final_project_hdfs/ml/data/part-00000-cce16314-b142-4ece-bc93-892798c0686e-c000.csv\n",
      "-rw-r--r--   1 guruprasadvk10 supergroup       1028 2024-03-02 17:55 /final_project_hdfs/ml/data/part-00000-ce4cbaf9-13c9-40eb-ad31-f0d82d337d95-c000.csv\n",
      "-rw-r--r--   1 guruprasadvk10 supergroup       1225 2024-03-02 18:18 /final_project_hdfs/ml/data/part-00000-ce937de4-53fc-4b6f-b5a3-30e6e516ea93-c000.csv\n",
      "-rw-r--r--   1 guruprasadvk10 supergroup       1368 2024-03-02 17:38 /final_project_hdfs/ml/data/part-00000-cea60ba9-5778-494c-bafa-2d39784f7f0c-c000.csv\n",
      "-rw-r--r--   1 guruprasadvk10 supergroup       1040 2024-03-02 18:03 /final_project_hdfs/ml/data/part-00000-cef9f2f1-5bff-4a83-a704-3fa0c7c06b6f-c000.csv\n",
      "-rw-r--r--   1 guruprasadvk10 supergroup       2164 2024-03-02 17:49 /final_project_hdfs/ml/data/part-00000-cf5f7937-39c3-43f7-92f5-6bfb34efef61-c000.csv\n",
      "-rw-r--r--   1 guruprasadvk10 supergroup       1032 2024-03-02 18:19 /final_project_hdfs/ml/data/part-00000-d040c0a2-41aa-46b4-b7c6-ef4f7229c709-c000.csv\n",
      "-rw-r--r--   1 guruprasadvk10 supergroup       1046 2024-03-02 17:51 /final_project_hdfs/ml/data/part-00000-d0577a99-1004-4405-9b4e-28f0a150a623-c000.csv\n",
      "-rw-r--r--   1 guruprasadvk10 supergroup       1374 2024-03-02 18:06 /final_project_hdfs/ml/data/part-00000-d0acc6b1-e814-4686-a348-faee76501bf7-c000.csv\n",
      "-rw-r--r--   1 guruprasadvk10 supergroup       1086 2024-03-02 18:08 /final_project_hdfs/ml/data/part-00000-d0dc106c-edb6-4009-86c4-c43f630aaffd-c000.csv\n",
      "-rw-r--r--   1 guruprasadvk10 supergroup       1249 2024-03-02 17:32 /final_project_hdfs/ml/data/part-00000-d21ea73d-783a-458f-9c54-2c8c411064c0-c000.csv\n",
      "-rw-r--r--   1 guruprasadvk10 supergroup       1028 2024-03-02 17:39 /final_project_hdfs/ml/data/part-00000-d254f1bd-7cd6-4d2d-8af2-eb14440f4f64-c000.csv\n",
      "-rw-r--r--   1 guruprasadvk10 supergroup       1239 2024-03-02 18:33 /final_project_hdfs/ml/data/part-00000-d266e65d-da43-4089-ba22-9cc0d85dd3ec-c000.csv\n",
      "-rw-r--r--   1 guruprasadvk10 supergroup       2003 2024-03-02 17:35 /final_project_hdfs/ml/data/part-00000-d2c20be8-9f90-41d5-a676-de835b672700-c000.csv\n",
      "-rw-r--r--   1 guruprasadvk10 supergroup       2164 2024-03-02 18:38 /final_project_hdfs/ml/data/part-00000-d322bcbe-1147-4187-84f1-d40ac839710d-c000.csv\n",
      "-rw-r--r--   1 guruprasadvk10 supergroup       1211 2024-03-02 17:48 /final_project_hdfs/ml/data/part-00000-d32ee099-b6b2-44be-ad53-793d05adcedb-c000.csv\n",
      "-rw-r--r--   1 guruprasadvk10 supergroup       1024 2024-03-02 18:06 /final_project_hdfs/ml/data/part-00000-d3568f2f-3d49-41ed-a80c-3e8ce06dbd88-c000.csv\n",
      "-rw-r--r--   1 guruprasadvk10 supergroup       1989 2024-03-02 17:53 /final_project_hdfs/ml/data/part-00000-d3a476bc-9088-4b3d-815e-1c08aeb3ce65-c000.csv\n",
      "-rw-r--r--   1 guruprasadvk10 supergroup       1245 2024-03-02 18:21 /final_project_hdfs/ml/data/part-00000-d50c6e49-d36d-4b5c-b0c2-f7f86b6ff89f-c000.csv\n",
      "-rw-r--r--   1 guruprasadvk10 supergroup       1100 2024-03-02 18:23 /final_project_hdfs/ml/data/part-00000-d5490ba4-5938-4a90-9006-afefad0c96ce-c000.csv\n",
      "-rw-r--r--   1 guruprasadvk10 supergroup        917 2024-03-02 18:34 /final_project_hdfs/ml/data/part-00000-d557c1f2-32c8-43ee-9bdd-8353d0862e87-c000.csv\n",
      "-rw-r--r--   1 guruprasadvk10 supergroup       2431 2024-03-02 17:53 /final_project_hdfs/ml/data/part-00000-d55e75c9-287d-4483-9429-3d0fcfc5ae99-c000.csv\n",
      "-rw-r--r--   1 guruprasadvk10 supergroup       1018 2024-03-02 17:55 /final_project_hdfs/ml/data/part-00000-d6317031-473c-40a3-b7d4-a323df0ac562-c000.csv\n",
      "-rw-r--r--   1 guruprasadvk10 supergroup       2216 2024-03-02 18:01 /final_project_hdfs/ml/data/part-00000-d6b487c3-c7c7-43c6-b40f-8a33e123a2aa-c000.csv\n",
      "-rw-r--r--   1 guruprasadvk10 supergroup       2170 2024-03-02 18:37 /final_project_hdfs/ml/data/part-00000-d746345f-42c8-4aec-adda-b35c0ea19fde-c000.csv\n",
      "-rw-r--r--   1 guruprasadvk10 supergroup       1953 2024-03-02 18:32 /final_project_hdfs/ml/data/part-00000-d7cf8050-00f9-42f3-b95a-f8b79ddaf9cc-c000.csv\n",
      "-rw-r--r--   1 guruprasadvk10 supergroup       1052 2024-03-02 17:58 /final_project_hdfs/ml/data/part-00000-d88ffb2a-7419-4a6f-bae4-1fb1a45cbf2e-c000.csv\n",
      "-rw-r--r--   1 guruprasadvk10 supergroup       2423 2024-03-02 17:57 /final_project_hdfs/ml/data/part-00000-da128a9d-4fdc-405a-9a58-86cf3a9e9daf-c000.csv\n",
      "-rw-r--r--   1 guruprasadvk10 supergroup       1812 2024-03-02 17:29 /final_project_hdfs/ml/data/part-00000-da19a939-216e-4760-8ca2-02696ac7cdd2-c000.csv\n",
      "-rw-r--r--   1 guruprasadvk10 supergroup       2011 2024-03-02 17:29 /final_project_hdfs/ml/data/part-00000-da9eb68e-e93a-4c09-8b70-1e8b29f09621-c000.csv\n",
      "-rw-r--r--   1 guruprasadvk10 supergroup       1963 2024-03-02 18:19 /final_project_hdfs/ml/data/part-00000-dac4e46e-4f08-4958-8f90-07acc2c0434f-c000.csv\n",
      "-rw-r--r--   1 guruprasadvk10 supergroup       1066 2024-03-02 17:54 /final_project_hdfs/ml/data/part-00000-db2584f0-89be-48e7-abee-6194380f6fd2-c000.csv\n",
      "-rw-r--r--   1 guruprasadvk10 supergroup       1434 2024-03-02 18:27 /final_project_hdfs/ml/data/part-00000-db90b5e4-9da1-45c2-ad55-090b42ac3ba6-c000.csv\n",
      "-rw-r--r--   1 guruprasadvk10 supergroup       2168 2024-03-02 18:05 /final_project_hdfs/ml/data/part-00000-dc04dcb5-ec5b-46cb-9a21-d298f59e09d2-c000.csv\n",
      "-rw-r--r--   1 guruprasadvk10 supergroup       2041 2024-03-02 17:32 /final_project_hdfs/ml/data/part-00000-dc7219b3-11c5-4c75-bbd0-cf2f5b075186-c000.csv\n",
      "-rw-r--r--   1 guruprasadvk10 supergroup       2200 2024-03-02 18:04 /final_project_hdfs/ml/data/part-00000-dd75d748-d081-4961-b692-d20e5d9c5f8b-c000.csv\n",
      "-rw-r--r--   1 guruprasadvk10 supergroup       2029 2024-03-02 18:00 /final_project_hdfs/ml/data/part-00000-de1ba5d8-862a-43e7-84ae-a6e011844a33-c000.csv\n",
      "-rw-r--r--   1 guruprasadvk10 supergroup       2015 2024-03-02 18:12 /final_project_hdfs/ml/data/part-00000-de93ede7-4d8e-4375-bfe1-e2cb362b6753-c000.csv\n",
      "-rw-r--r--   1 guruprasadvk10 supergroup       2039 2024-03-02 18:32 /final_project_hdfs/ml/data/part-00000-deb272a7-7257-471e-8f55-65a81ba830a5-c000.csv\n",
      "-rw-r--r--   1 guruprasadvk10 supergroup       2055 2024-03-02 17:43 /final_project_hdfs/ml/data/part-00000-ded508ba-8166-4a59-bdfe-3f71837539a9-c000.csv\n",
      "-rw-r--r--   1 guruprasadvk10 supergroup       2393 2024-03-02 18:08 /final_project_hdfs/ml/data/part-00000-e0ae508c-76dd-4f14-9699-91d198f56801-c000.csv\n",
      "-rw-r--r--   1 guruprasadvk10 supergroup       1233 2024-03-02 17:31 /final_project_hdfs/ml/data/part-00000-e105276b-e07e-40b0-8678-fad629ae0738-c000.csv\n",
      "-rw-r--r--   1 guruprasadvk10 supergroup       1416 2024-03-02 18:20 /final_project_hdfs/ml/data/part-00000-e10e1c4b-8288-4ace-b238-f47ecac25939-c000.csv\n",
      "-rw-r--r--   1 guruprasadvk10 supergroup       1062 2024-03-02 18:27 /final_project_hdfs/ml/data/part-00000-e1998637-a759-4fa3-8f44-461c3276694b-c000.csv\n",
      "-rw-r--r--   1 guruprasadvk10 supergroup       1983 2024-03-02 17:51 /final_project_hdfs/ml/data/part-00000-e1ca98e5-3efa-44d3-8e48-1fe4d7b736a2-c000.csv\n",
      "-rw-r--r--   1 guruprasadvk10 supergroup       1398 2024-03-02 17:46 /final_project_hdfs/ml/data/part-00000-e2257ae9-87fd-412b-9f53-dad713dadfdb-c000.csv\n",
      "-rw-r--r--   1 guruprasadvk10 supergroup       1038 2024-03-02 17:40 /final_project_hdfs/ml/data/part-00000-e3930c29-4348-417a-aa21-fae6919d519f-c000.csv\n",
      "-rw-r--r--   1 guruprasadvk10 supergroup       1054 2024-03-02 17:45 /final_project_hdfs/ml/data/part-00000-e3af917b-64aa-41f2-8d26-3be0ad115406-c000.csv\n",
      "-rw-r--r--   1 guruprasadvk10 supergroup       1114 2024-03-02 18:16 /final_project_hdfs/ml/data/part-00000-e4e7f16c-712e-40a7-b8b9-7077837dcec7-c000.csv\n",
      "-rw-r--r--   1 guruprasadvk10 supergroup       1012 2024-03-02 18:15 /final_project_hdfs/ml/data/part-00000-e522a751-2319-4cc7-b68e-abe1dbdbaa14-c000.csv\n",
      "-rw-r--r--   1 guruprasadvk10 supergroup       1376 2024-03-02 17:53 /final_project_hdfs/ml/data/part-00000-e5433d30-c586-4864-a240-ae5982eb1c3d-c000.csv\n",
      "-rw-r--r--   1 guruprasadvk10 supergroup       1078 2024-03-02 18:39 /final_project_hdfs/ml/data/part-00000-e579b2eb-b2c9-4e07-83d9-e3d973d19aad-c000.csv\n",
      "-rw-r--r--   1 guruprasadvk10 supergroup       1217 2024-03-02 18:34 /final_project_hdfs/ml/data/part-00000-e589007e-8708-4115-9745-4dcab86ab459-c000.csv\n",
      "-rw-r--r--   1 guruprasadvk10 supergroup       1094 2024-03-02 18:09 /final_project_hdfs/ml/data/part-00000-e5c23fb2-317e-41c9-b24a-22871a15ba79-c000.csv\n",
      "-rw-r--r--   1 guruprasadvk10 supergroup       1050 2024-03-02 18:24 /final_project_hdfs/ml/data/part-00000-e5d53209-182d-45ec-93b8-25850605f4c1-c000.csv\n",
      "-rw-r--r--   1 guruprasadvk10 supergroup       2160 2024-03-02 18:30 /final_project_hdfs/ml/data/part-00000-e6683368-8269-4772-b493-983047d640c7-c000.csv\n",
      "-rw-r--r--   1 guruprasadvk10 supergroup       1380 2024-03-02 18:18 /final_project_hdfs/ml/data/part-00000-e6ce684c-fbc3-47b4-b586-d25ffdb69a75-c000.csv\n",
      "-rw-r--r--   1 guruprasadvk10 supergroup        929 2024-03-02 17:45 /final_project_hdfs/ml/data/part-00000-e6df824e-6775-4ca6-857e-963a0ca99550-c000.csv\n",
      "-rw-r--r--   1 guruprasadvk10 supergroup       1062 2024-03-02 18:17 /final_project_hdfs/ml/data/part-00000-e7067126-5057-4107-a39d-b68d6b3ddb71-c000.csv\n",
      "-rw-r--r--   1 guruprasadvk10 supergroup       1800 2024-03-02 17:39 /final_project_hdfs/ml/data/part-00000-e7af68cd-9fb5-43b9-b4d2-a65c6de99652-c000.csv\n",
      "-rw-r--r--   1 guruprasadvk10 supergroup       2379 2024-03-02 18:16 /final_project_hdfs/ml/data/part-00000-e7cf3e43-2205-47ed-8e63-b44792246261-c000.csv\n",
      "-rw-r--r--   1 guruprasadvk10 supergroup       2381 2024-03-02 18:18 /final_project_hdfs/ml/data/part-00000-e8b6b46f-ce7e-4f8c-92f2-346326cfad07-c000.csv\n",
      "-rw-r--r--   1 guruprasadvk10 supergroup       2198 2024-03-02 18:03 /final_project_hdfs/ml/data/part-00000-ea2c61a0-f2de-4a95-af92-a83f225e7b87-c000.csv\n",
      "-rw-r--r--   1 guruprasadvk10 supergroup       1390 2024-03-02 17:37 /final_project_hdfs/ml/data/part-00000-ea5ef552-e37b-43cb-9923-fd9b84ba57fa-c000.csv\n",
      "-rw-r--r--   1 guruprasadvk10 supergroup       2027 2024-03-02 17:56 /final_project_hdfs/ml/data/part-00000-eac2d2cd-5a8e-4948-931c-ce1239976b8f-c000.csv\n",
      "-rw-r--r--   1 guruprasadvk10 supergroup       1223 2024-03-02 18:12 /final_project_hdfs/ml/data/part-00000-eae02553-26b6-4d1f-b9b2-e6d604be44c9-c000.csv\n",
      "-rw-r--r--   1 guruprasadvk10 supergroup       2475 2024-03-02 18:24 /final_project_hdfs/ml/data/part-00000-eb148923-7e35-4d8a-b797-d0f1bc6f7265-c000.csv\n",
      "-rw-r--r--   1 guruprasadvk10 supergroup       1024 2024-03-02 17:38 /final_project_hdfs/ml/data/part-00000-eb3c3d05-ef0a-4bb5-8d55-257cfa267f7f-c000.csv\n",
      "-rw-r--r--   1 guruprasadvk10 supergroup       1052 2024-03-02 17:56 /final_project_hdfs/ml/data/part-00000-ec674e21-5bd3-4a58-ae1f-ec07bc01721a-c000.csv\n",
      "-rw-r--r--   1 guruprasadvk10 supergroup       1396 2024-03-02 17:47 /final_project_hdfs/ml/data/part-00000-ed0d2cba-4d74-4b52-ba20-d7b24abca02e-c000.csv\n",
      "-rw-r--r--   1 guruprasadvk10 supergroup       1038 2024-03-02 17:40 /final_project_hdfs/ml/data/part-00000-edca6e4f-52e2-41f8-9034-55efb58390cd-c000.csv\n",
      "-rw-r--r--   1 guruprasadvk10 supergroup       1390 2024-03-02 17:36 /final_project_hdfs/ml/data/part-00000-f0053f5d-ac9d-403b-80ca-c1a83119649e-c000.csv\n",
      "-rw-r--r--   1 guruprasadvk10 supergroup       2401 2024-03-02 17:55 /final_project_hdfs/ml/data/part-00000-f058399e-946c-4382-9b21-00223855e383-c000.csv\n",
      "-rw-r--r--   1 guruprasadvk10 supergroup       2053 2024-03-02 17:44 /final_project_hdfs/ml/data/part-00000-f06fff85-2b1a-46f7-be1d-a74d2558ec92-c000.csv\n",
      "-rw-r--r--   1 guruprasadvk10 supergroup       2140 2024-03-02 18:20 /final_project_hdfs/ml/data/part-00000-f15c4275-c739-43fe-9788-ef5428e375b7-c000.csv\n",
      "-rw-r--r--   1 guruprasadvk10 supergroup       2220 2024-03-02 18:12 /final_project_hdfs/ml/data/part-00000-f1ad9065-ac4e-445b-9a35-d47b79feefd6-c000.csv\n",
      "-rw-r--r--   1 guruprasadvk10 supergroup       1971 2024-03-02 17:52 /final_project_hdfs/ml/data/part-00000-f2029f4a-79e0-4015-b977-e7c223e3329e-c000.csv\n",
      "-rw-r--r--   1 guruprasadvk10 supergroup       1394 2024-03-02 17:37 /final_project_hdfs/ml/data/part-00000-f2693fb2-3db8-4493-b001-92c3b6c085aa-c000.csv\n",
      "-rw-r--r--   1 guruprasadvk10 supergroup       1374 2024-03-02 18:17 /final_project_hdfs/ml/data/part-00000-f2a502a3-3152-4aa9-a252-00fbaa71d186-c000.csv\n",
      "-rw-r--r--   1 guruprasadvk10 supergroup       1804 2024-03-02 17:30 /final_project_hdfs/ml/data/part-00000-f4c4be4b-65af-442e-b119-a02119172ffb-c000.csv\n",
      "-rw-r--r--   1 guruprasadvk10 supergroup       1010 2024-03-02 17:50 /final_project_hdfs/ml/data/part-00000-f50b5749-cfee-44ba-b50b-19649dce4abf-c000.csv\n",
      "-rw-r--r--   1 guruprasadvk10 supergroup       2244 2024-03-02 17:51 /final_project_hdfs/ml/data/part-00000-f5135016-de43-4ea4-81a9-68923b110d11-c000.csv\n",
      "-rw-r--r--   1 guruprasadvk10 supergroup       1062 2024-03-02 17:49 /final_project_hdfs/ml/data/part-00000-f5a91e03-96f3-489f-b785-709568a1d00f-c000.csv\n",
      "-rw-r--r--   1 guruprasadvk10 supergroup       1066 2024-03-02 17:52 /final_project_hdfs/ml/data/part-00000-f6114ac3-3675-47f0-8e0e-15128ed83d1c-c000.csv\n",
      "-rw-r--r--   1 guruprasadvk10 supergroup       2156 2024-03-02 18:30 /final_project_hdfs/ml/data/part-00000-f6673973-5a7d-4584-807c-01cc8edc55da-c000.csv\n",
      "-rw-r--r--   1 guruprasadvk10 supergroup       2001 2024-03-02 17:58 /final_project_hdfs/ml/data/part-00000-f7071168-ccdb-4b89-81cb-f85eae9893cc-c000.csv\n",
      "-rw-r--r--   1 guruprasadvk10 supergroup       1410 2024-03-02 18:21 /final_project_hdfs/ml/data/part-00000-f789663a-1892-4853-bbab-d80930d0ba99-c000.csv\n",
      "-rw-r--r--   1 guruprasadvk10 supergroup       1386 2024-03-02 18:26 /final_project_hdfs/ml/data/part-00000-f82949b2-2f87-4ff8-aa58-dbde494c3f6a-c000.csv\n",
      "-rw-r--r--   1 guruprasadvk10 supergroup       2379 2024-03-02 17:57 /final_project_hdfs/ml/data/part-00000-f8326c8c-0c96-4d01-be92-9270b5759613-c000.csv\n",
      "-rw-r--r--   1 guruprasadvk10 supergroup       1016 2024-03-02 18:28 /final_project_hdfs/ml/data/part-00000-f869fda0-18b9-4938-8723-21d7f1bf0f83-c000.csv\n",
      "-rw-r--r--   1 guruprasadvk10 supergroup       2192 2024-03-02 17:38 /final_project_hdfs/ml/data/part-00000-fa21f4f5-c2da-476f-adeb-8dacf9e4efff-c000.csv\n",
      "-rw-r--r--   1 guruprasadvk10 supergroup       1816 2024-03-02 17:40 /final_project_hdfs/ml/data/part-00000-fb3165eb-1ea6-47af-9e70-7917cd1f6f92-c000.csv\n",
      "-rw-r--r--   1 guruprasadvk10 supergroup       1382 2024-03-02 17:53 /final_project_hdfs/ml/data/part-00000-fc10e56a-2ce9-494a-9e24-8a2565dba053-c000.csv\n",
      "-rw-r--r--   1 guruprasadvk10 supergroup       1402 2024-03-02 18:23 /final_project_hdfs/ml/data/part-00000-fcc0c5d7-9606-4b48-b808-517d692be509-c000.csv\n",
      "-rw-r--r--   1 guruprasadvk10 supergroup       2182 2024-03-02 18:39 /final_project_hdfs/ml/data/part-00000-fcd192c9-60de-4025-b066-8b35b30035a0-c000.csv\n",
      "-rw-r--r--   1 guruprasadvk10 supergroup       2272 2024-03-02 17:47 /final_project_hdfs/ml/data/part-00000-fd98ef68-64d8-4cdb-b273-25cf6e3c8908-c000.csv\n",
      "-rw-r--r--   1 guruprasadvk10 supergroup       2210 2024-03-02 18:13 /final_project_hdfs/ml/data/part-00000-fda86245-278d-42af-903f-4f9fd60f5683-c000.csv\n",
      "-rw-r--r--   1 guruprasadvk10 supergroup       2725 2024-03-02 18:04 /final_project_hdfs/ml/data/part-00000-fe0b43b3-3a8a-4c88-bbc0-fd3253c67aa3-c000.csv\n",
      "-rw-r--r--   1 guruprasadvk10 supergroup       1388 2024-03-02 17:51 /final_project_hdfs/ml/data/part-00000-febc88ae-032d-4508-a521-4db4d6cf5146-c000.csv\n",
      "-rw-r--r--   1 guruprasadvk10 supergroup       1066 2024-03-02 18:25 /final_project_hdfs/ml/data/part-00000-ff2d33d6-674e-4a4a-beb8-ae5b424ffc8b-c000.csv\n",
      "-rw-r--r--   1 guruprasadvk10 supergroup       2393 2024-03-02 18:07 /final_project_hdfs/ml/data/part-00000-ffa153fc-b481-4126-8f52-a1f38d790523-c000.csv\n",
      "-rw-r--r--   1 guruprasadvk10 supergroup       2327 2024-03-02 18:12 /final_project_hdfs/ml/data/part-00000-ffadf26b-a362-4e71-aa82-67d55bb8fb7e-c000.csv\n"
     ]
    }
   ],
   "source": [
    "!hdfs dfs -ls /final_project_hdfs/ml/data"
   ]
  },
  {
   "cell_type": "markdown",
   "id": "e96d988f-bd99-4409-867f-c16850637b53",
   "metadata": {},
   "source": [
    "### Creating Hive tables on the ML streaming data stored in the HDFS"
   ]
  },
  {
   "cell_type": "code",
   "execution_count": 59,
   "id": "0bb83d28-476b-41e6-a6e8-8b791d748012",
   "metadata": {},
   "outputs": [
    {
     "data": {
      "text/html": [
       "<table border='1'>\n",
       "<tr><th></th></tr>\n",
       "</table>\n"
      ],
      "text/plain": [
       "++\n",
       "||\n",
       "++\n",
       "++"
      ]
     },
     "execution_count": 59,
     "metadata": {},
     "output_type": "execute_result"
    }
   ],
   "source": [
    "# Selecting the Hive DB\n",
    "spark.sql(\"use cta_db\")\n",
    "# Drop table if it already exists\n",
    "spark.sql(\"DROP TABLE IF EXISTS cta_ml_data;\")"
   ]
  },
  {
   "cell_type": "code",
   "execution_count": 60,
   "id": "131fadd1-c45b-4fe6-8476-b2ed81bd4d8f",
   "metadata": {},
   "outputs": [
    {
     "name": "stderr",
     "output_type": "stream",
     "text": [
      "24/03/02 19:21:05 WARN HiveMetaStore: Location: hdfs://localhost:9000/user/hive/warehouse/cta_db.db/cta_ml_data specified for non-external table:cta_ml_data\n"
     ]
    },
    {
     "data": {
      "text/html": [
       "<table border='1'>\n",
       "<tr><th></th></tr>\n",
       "</table>\n"
      ],
      "text/plain": [
       "++\n",
       "||\n",
       "++\n",
       "++"
      ]
     },
     "execution_count": 60,
     "metadata": {},
     "output_type": "execute_result"
    }
   ],
   "source": [
    "# Create HIve table cta_ml_data\n",
    "spark.sql(\"CREATE TABLE cta_ml_data (   value STRING,    route_color  STRING,  run_number STRING,  dest_name STRING, next_station_id STRING, next_station_name STRING, \\\n",
    "          lat STRING, lon STRING , transit_date STRING,  year STRING, month STRING, dayofmonth STRING, hour STRING , minute STRING, is_delayed STRING ) ROW FORMAT DELIMITED FIELDS TERMINATED BY '|';\")\n",
    "# Load data into Hive from HDFS path\n",
    "spark.sql(\"LOAD DATA INPATH '/final_project_hdfs/ml/data' INTO TABLE cta_ml_data;\")"
   ]
  },
  {
   "cell_type": "code",
   "execution_count": 61,
   "id": "88fedab2-2f7e-4492-af6f-0bbcca4ba080",
   "metadata": {},
   "outputs": [
    {
     "name": "stderr",
     "output_type": "stream",
     "text": [
      "                                                                                \r"
     ]
    },
    {
     "data": {
      "text/html": [
       "<table border='1'>\n",
       "<tr><th>value</th><th>route_color</th><th>run_number</th><th>dest_name</th><th>next_station_id</th><th>next_station_name</th><th>lat</th><th>lon</th><th>transit_date</th><th>year</th><th>month</th><th>dayofmonth</th><th>hour</th><th>minute</th><th>is_delayed</th></tr>\n",
       "<tr><td></td><td>blue,110,30077,Fo...</td><td>blue</td><td>110</td><td>Forest Park</td><td>40590</td><td>Damen</td><td>41.91427</td><td>-87.68446</td><td>2024-03-02</td><td>2024</td><td>03</td><td>02</td><td>00</td><td>00</td></tr>\n",
       "<tr><td></td><td>blue,112,30171,O'...</td><td>blue</td><td>112</td><td>O'Hare</td><td>40010</td><td>Austin</td><td>41.87109</td><td>-87.77971</td><td>2024-03-02</td><td>2024</td><td>03</td><td>02</td><td>00</td><td>00</td></tr>\n",
       "<tr><td></td><td>blue,107,30077,Fo...</td><td>blue</td><td>107</td><td>Forest Park</td><td>40550</td><td>Irving Park</td><td>41.96149</td><td>-87.74362</td><td>2024-03-02</td><td>2024</td><td>03</td><td>02</td><td>00</td><td>00</td></tr>\n",
       "<tr><td></td><td>blue,203,30077,Fo...</td><td>blue</td><td>203</td><td>Forest Park</td><td>40370</td><td>Washington</td><td>41.88471</td><td>-87.62946</td><td>2024-03-02</td><td>2024</td><td>03</td><td>02</td><td>00</td><td>00</td></tr>\n",
       "<tr><td></td><td>blue,113,30077,Fo...</td><td>blue</td><td>113</td><td>Forest Park</td><td>41340</td><td>LaSalle</td><td>41.87818</td><td>-87.6293</td><td>2024-03-02</td><td>2024</td><td>03</td><td>02</td><td>00</td><td>00</td></tr>\n",
       "</table>\n"
      ],
      "text/plain": [
       "+-----+--------------------+----------+---------+---------------+-----------------+-----------+--------+------------+----------+-----+----------+----+------+----------+\n",
       "|value|         route_color|run_number|dest_name|next_station_id|next_station_name|        lat|     lon|transit_date|      year|month|dayofmonth|hour|minute|is_delayed|\n",
       "+-----+--------------------+----------+---------+---------------+-----------------+-----------+--------+------------+----------+-----+----------+----+------+----------+\n",
       "|     |blue,110,30077,Fo...|      blue|      110|    Forest Park|            40590|      Damen|41.91427|   -87.68446|2024-03-02| 2024|        03|  02|    00|        00|\n",
       "|     |blue,112,30171,O'...|      blue|      112|         O'Hare|            40010|     Austin|41.87109|   -87.77971|2024-03-02| 2024|        03|  02|    00|        00|\n",
       "|     |blue,107,30077,Fo...|      blue|      107|    Forest Park|            40550|Irving Park|41.96149|   -87.74362|2024-03-02| 2024|        03|  02|    00|        00|\n",
       "|     |blue,203,30077,Fo...|      blue|      203|    Forest Park|            40370| Washington|41.88471|   -87.62946|2024-03-02| 2024|        03|  02|    00|        00|\n",
       "|     |blue,113,30077,Fo...|      blue|      113|    Forest Park|            41340|    LaSalle|41.87818|    -87.6293|2024-03-02| 2024|        03|  02|    00|        00|\n",
       "+-----+--------------------+----------+---------+---------------+-----------------+-----------+--------+------------+----------+-----+----------+----+------+----------+"
      ]
     },
     "execution_count": 61,
     "metadata": {},
     "output_type": "execute_result"
    }
   ],
   "source": [
    "# Running sample queries on hive table\n",
    "spark.sql(\"SELECT * FROM cta_ml_data  order by run_number LIMIT 5;\")"
   ]
  },
  {
   "cell_type": "code",
   "execution_count": 62,
   "id": "1693ad20-65cc-4fff-90f2-c425ef557c80",
   "metadata": {},
   "outputs": [
    {
     "name": "stderr",
     "output_type": "stream",
     "text": [
      "                                                                                \r"
     ]
    },
    {
     "data": {
      "text/html": [
       "<table border='1'>\n",
       "<tr><th>count(1)</th></tr>\n",
       "<tr><td>6089</td></tr>\n",
       "</table>\n"
      ],
      "text/plain": [
       "+--------+\n",
       "|count(1)|\n",
       "+--------+\n",
       "|    6089|\n",
       "+--------+"
      ]
     },
     "execution_count": 62,
     "metadata": {},
     "output_type": "execute_result"
    }
   ],
   "source": [
    "spark.sql(\"SELECT count(1) FROM cta_ml_data;\")"
   ]
  },
  {
   "cell_type": "code",
   "execution_count": 63,
   "id": "381430b0-a937-4c57-8398-a67cc49991c1",
   "metadata": {},
   "outputs": [
    {
     "name": "stdout",
     "output_type": "stream",
     "text": [
      "Found 2 items\n",
      "drwxr-xr-x   - guruprasadvk10 supergroup          0 2024-03-02 17:28 /final_project_hdfs/ml/checkpoint\n",
      "drwxr-xr-x   - guruprasadvk10 supergroup          0 2024-03-02 19:21 /final_project_hdfs/ml/data\n"
     ]
    }
   ],
   "source": [
    "!hdfs dfs -ls /final_project_hdfs/ml"
   ]
  },
  {
   "cell_type": "code",
   "execution_count": null,
   "id": "f0a67c01-5f47-4225-b1ac-8cac6972ea66",
   "metadata": {},
   "outputs": [],
   "source": [
    "#!hdfs dfs -ls -R /final_project_hdfs/ml/data"
   ]
  },
  {
   "cell_type": "markdown",
   "id": "5bba1a66-81c8-4ca9-a72d-d8c0ee471c6a",
   "metadata": {},
   "source": [
    "### Building Machine Learning Model"
   ]
  },
  {
   "cell_type": "code",
   "execution_count": 64,
   "id": "078fbcff-ae54-4ed7-9ef4-128b28d920e5",
   "metadata": {},
   "outputs": [],
   "source": [
    "# Exporting required libraries for building the model\n",
    "from pyspark.ml.feature import OneHotEncoder\n",
    "from pyspark.ml.feature import MinMaxScaler\n",
    "from pyspark.ml.feature import StringIndexer\n",
    "from pyspark.ml.feature import VectorAssembler\n",
    "from pyspark.ml.feature import OneHotEncoder\n",
    "from pyspark.ml.classification import LogisticRegression\n",
    "from pyspark.ml import Pipeline"
   ]
  },
  {
   "cell_type": "code",
   "execution_count": 65,
   "id": "c5218a76-afbf-42a1-b278-a851901f1f6d",
   "metadata": {},
   "outputs": [
    {
     "name": "stdout",
     "output_type": "stream",
     "text": [
      "['route_color', 'run_number', 'dest_name', 'next_station_id', 'next_station_name']\n",
      "['year', 'month', 'day', 'hour', 'minute']\n"
     ]
    }
   ],
   "source": [
    "# Creating list of numeric and Categorical columns\n",
    "catCols=['route_color', 'run_number', 'dest_name', 'next_station_id', 'next_station_name']\n",
    "numCols=['year','month','day','hour','minute']\n",
    "print(catCols)\n",
    "print(numCols)"
   ]
  },
  {
   "cell_type": "code",
   "execution_count": 66,
   "id": "5abad4b5-ff30-4ea3-ac1f-86135c07b22e",
   "metadata": {},
   "outputs": [
    {
     "data": {
      "text/plain": [
       "[StringIndexer_c26df6e97feb,\n",
       " StringIndexer_9d39cf756252,\n",
       " StringIndexer_06f5bdd3275e,\n",
       " StringIndexer_42c199204d62,\n",
       " StringIndexer_33293fef0160]"
      ]
     },
     "execution_count": 66,
     "metadata": {},
     "output_type": "execute_result"
    }
   ],
   "source": [
    "# Creating a String Indexer object on the categorical columns\n",
    "string_indexer=[\n",
    "    StringIndexer(inputCol=x, outputCol=x+\"_StringIndexer\",handleInvalid=\"skip\")\n",
    "    for x in catCols\n",
    "]\n",
    "string_indexer"
   ]
  },
  {
   "cell_type": "code",
   "execution_count": 67,
   "id": "5c6dfa51-a6fe-4424-81a4-075ccada0038",
   "metadata": {},
   "outputs": [
    {
     "data": {
      "text/plain": [
       "[OneHotEncoder_38144cd3c1ed]"
      ]
     },
     "execution_count": 67,
     "metadata": {},
     "output_type": "execute_result"
    }
   ],
   "source": [
    "# Creating a One Hot Encoding object on the categorical columns\n",
    "one_hot_encoder=[\n",
    "    OneHotEncoder(inputCols=[f\"{x}_StringIndexer\" for x in catCols],\n",
    "                  outputCols=[f\"{x}_OneHotEncoder\" for x in catCols],\n",
    "                 )\n",
    "]\n",
    "one_hot_encoder"
   ]
  },
  {
   "cell_type": "code",
   "execution_count": 68,
   "id": "bd6e48ff-ee49-4930-94f5-c5c5c50b4fe4",
   "metadata": {},
   "outputs": [
    {
     "data": {
      "text/plain": [
       "['year',\n",
       " 'month',\n",
       " 'day',\n",
       " 'hour',\n",
       " 'minute',\n",
       " 'route_color_OneHotEncoder',\n",
       " 'run_number_OneHotEncoder',\n",
       " 'dest_name_OneHotEncoder',\n",
       " 'next_station_id_OneHotEncoder',\n",
       " 'next_station_name_OneHotEncoder']"
      ]
     },
     "execution_count": 68,
     "metadata": {},
     "output_type": "execute_result"
    }
   ],
   "source": [
    "# Creating an assembler object\n",
    "assemblerInput=[x for x in numCols]\n",
    "assemblerInput += [f\"{x}_OneHotEncoder\" for x in catCols]\n",
    "assemblerInput"
   ]
  },
  {
   "cell_type": "code",
   "execution_count": 69,
   "id": "b10c4d50-043d-48ed-b721-82976f750e43",
   "metadata": {},
   "outputs": [],
   "source": [
    "# Creating a Vector object on the assembler object as ML can accept the features as a Vector\n",
    "vector_assembler=VectorAssembler(\n",
    "    inputCols=assemblerInput,outputCol=\"vectorAssembler_features\"\n",
    ")"
   ]
  },
  {
   "cell_type": "code",
   "execution_count": 70,
   "id": "c2c987e5-a580-417c-befa-973f6ef21f60",
   "metadata": {},
   "outputs": [
    {
     "data": {
      "text/plain": [
       "[StringIndexer_c26df6e97feb,\n",
       " StringIndexer_9d39cf756252,\n",
       " StringIndexer_06f5bdd3275e,\n",
       " StringIndexer_42c199204d62,\n",
       " StringIndexer_33293fef0160,\n",
       " OneHotEncoder_38144cd3c1ed,\n",
       " VectorAssembler_08e6c845c54f]"
      ]
     },
     "execution_count": 70,
     "metadata": {},
     "output_type": "execute_result"
    }
   ],
   "source": [
    "# Creating a list called stages that contains the stages in the pipeline\n",
    "stages=[]\n",
    "stages += string_indexer\n",
    "stages += one_hot_encoder\n",
    "stages += [vector_assembler]\n",
    "stages"
   ]
  },
  {
   "cell_type": "code",
   "execution_count": 71,
   "id": "9ec4659c-984f-4a55-a020-16692b09283d",
   "metadata": {},
   "outputs": [],
   "source": [
    "# Creating a pipeline from the stages list\n",
    "from pyspark.ml import Pipeline\n",
    "pipeline= Pipeline().setStages(stages)"
   ]
  },
  {
   "cell_type": "code",
   "execution_count": 72,
   "id": "72614e2e-3638-4320-9d17-fc6fd9a5c62d",
   "metadata": {},
   "outputs": [],
   "source": [
    "# Creating a temporary Dataframe extracting the data from df_cta_sql_ml\n",
    "temp_df=spark.sql(\"select CAST(value AS STRING), \\\n",
    "                  split(value, ',')[0] as route_color, \\\n",
    "                  split(value, ',')[1] as run_number, \\\n",
    "                  split(value, ',')[3] as dest_name, \\\n",
    "                  split(value, ',')[4] as next_station_id, \\\n",
    "                  split(value, ',')[5] as next_station_name, \\\n",
    "                  split(value, ',')[8] as is_delayed, \\\n",
    "                  to_date(split(split(value, ',')[6],'T')[0],'yyyy-MM-dd') as transit_date, \\\n",
    "                  year(transit_date) as year, \\\n",
    "                  month(transit_date) as month, \\\n",
    "                  day(transit_date) as day, \\\n",
    "                  to_date(split(split(value, ',')[6],'T')[1],'HH:mm:ss') as transit_time, \\\n",
    "                  hour(transit_time) as hour, \\\n",
    "                  minute(transit_time) as minute \\\n",
    "                  from df_cta_sql_ml\"\n",
    "         )\n",
    "# Selecting the required columns\n",
    "ml_df_orig=temp_df.select(\"route_color\",\"run_number\",\"dest_name\",\"next_station_id\",\"next_station_name\",\"year\",\"month\",\"day\",\"hour\",\"minute\",\"is_delayed\")\n",
    "# Renaming the column is_delayed as output\n",
    "ml_df = ml_df_orig.withColumnRenamed(\"is_delayed\",\"output\")"
   ]
  },
  {
   "cell_type": "code",
   "execution_count": 73,
   "id": "968c40e2-df64-40b5-bad8-ee4481d8a2cc",
   "metadata": {},
   "outputs": [
    {
     "data": {
      "text/plain": [
       "5576"
      ]
     },
     "execution_count": 73,
     "metadata": {},
     "output_type": "execute_result"
    }
   ],
   "source": [
    "ml_df.count()"
   ]
  },
  {
   "cell_type": "code",
   "execution_count": 74,
   "id": "52b30cc2-0f64-44b2-9d82-70721b51b69d",
   "metadata": {},
   "outputs": [
    {
     "name": "stdout",
     "output_type": "stream",
     "text": [
      "root\n",
      " |-- route_color: string (nullable = true)\n",
      " |-- run_number: string (nullable = true)\n",
      " |-- dest_name: string (nullable = true)\n",
      " |-- next_station_id: string (nullable = true)\n",
      " |-- next_station_name: string (nullable = true)\n",
      " |-- year: integer (nullable = true)\n",
      " |-- month: integer (nullable = true)\n",
      " |-- day: integer (nullable = true)\n",
      " |-- hour: integer (nullable = true)\n",
      " |-- minute: integer (nullable = true)\n",
      " |-- output: string (nullable = true)\n",
      "\n"
     ]
    }
   ],
   "source": [
    "ml_df.printSchema()"
   ]
  },
  {
   "cell_type": "code",
   "execution_count": 75,
   "id": "bccf55c5-4b75-499c-a1ad-d37012cdac10",
   "metadata": {},
   "outputs": [
    {
     "name": "stdout",
     "output_type": "stream",
     "text": [
      "+-----------+----------+-------------+---------------+--------------------+----+-----+---+----+------+------+\n",
      "|route_color|run_number|    dest_name|next_station_id|   next_station_name|year|month|day|hour|minute|output|\n",
      "+-----------+----------+-------------+---------------+--------------------+----+-----+---+----+------+------+\n",
      "|          g|       001| Ashland/63rd|          41160|             Clinton|2024|    3|  2|   0|     0|     0|\n",
      "|          g|       004|  Harlem/Lake|          41350|            Oak Park|2024|    3|  2|   0|     0|     0|\n",
      "|          g|       005|  Harlem/Lake|          41400|           Roosevelt|2024|    3|  2|   0|     0|     0|\n",
      "|          g|       006|  Harlem/Lake|          40030|             Pulaski|2024|    3|  2|   0|     0|     0|\n",
      "|          g|       007| Ashland/63rd|          41080|                47th|2024|    3|  2|   0|     0|     0|\n",
      "|          g|       601|  Harlem/Lake|          41080|                47th|2024|    3|  2|   0|     0|     0|\n",
      "|          g|       603|Cottage Grove|          41690|Cermak-McCormick ...|2024|    3|  2|   0|     0|     0|\n",
      "|          g|       605|Cottage Grove|          41070|              Kedzie|2024|    3|  2|   0|     0|     0|\n",
      "|          g|       608| Ashland/63rd|          40610|           Ridgeland|2024|    3|  2|   0|     0|     0|\n",
      "|          g|       609|  Harlem/Lake|          41510|              Morgan|2024|    3|  2|   0|     0|     0|\n",
      "+-----------+----------+-------------+---------------+--------------------+----+-----+---+----+------+------+\n",
      "only showing top 10 rows\n",
      "\n"
     ]
    }
   ],
   "source": [
    "# Showing sample rows from ml_df\n",
    "ml_df.show(10)"
   ]
  },
  {
   "cell_type": "code",
   "execution_count": 76,
   "id": "abb8e084-669d-442f-9edc-9df2f2f0aded",
   "metadata": {},
   "outputs": [
    {
     "name": "stdout",
     "output_type": "stream",
     "text": [
      "+-----------+----------+------------+---------------+-----------------+----+-----+---+----+------+-------------------------------------------------------------------+\n",
      "|route_color|run_number|dest_name   |next_station_id|next_station_name|year|month|day|hour|minute|vectorAssembler_features                                           |\n",
      "+-----------+----------+------------+---------------+-----------------+----+-----+---+----+------+-------------------------------------------------------------------+\n",
      "|g          |001       |Ashland/63rd|41160          |Clinton          |2024|3    |2  |0   |0     |(333,[0,1,2,7,34,103,110,241],[2024.0,3.0,2.0,1.0,1.0,1.0,1.0,1.0])|\n",
      "|g          |004       |Harlem/Lake |41350          |Oak Park         |2024|3    |2  |0   |0     |(333,[0,1,2,7,66,99,226,266],[2024.0,3.0,2.0,1.0,1.0,1.0,1.0,1.0]) |\n",
      "|g          |005       |Harlem/Lake |41400          |Roosevelt        |2024|3    |2  |0   |0     |(333,[0,1,2,7,40,99,104,234],[2024.0,3.0,2.0,1.0,1.0,1.0,1.0,1.0]) |\n",
      "|g          |006       |Harlem/Lake |40030          |Pulaski          |2024|3    |2  |0   |0     |(333,[0,1,2,7,88,99,147,236],[2024.0,3.0,2.0,1.0,1.0,1.0,1.0,1.0]) |\n",
      "|g          |007       |Ashland/63rd|41080          |47th             |2024|3    |2  |0   |0     |(333,[0,1,2,7,50,103,141,255],[2024.0,3.0,2.0,1.0,1.0,1.0,1.0,1.0])|\n",
      "+-----------+----------+------------+---------------+-----------------+----+-----+---+----+------+-------------------------------------------------------------------+\n",
      "only showing top 5 rows\n",
      "\n"
     ]
    }
   ],
   "source": [
    "# Fitting  and transforming the pipeline object on the ml_df\n",
    "ml_df_fit=pipeline.fit(ml_df)\n",
    "ml_df_trans=ml_df_fit.transform(ml_df)\n",
    "# Selecting the required columns to display \n",
    "ml_df_trans.select('route_color', 'run_number', 'dest_name', 'next_station_id', 'next_station_name','year','month','day','hour','minute','vectorAssembler_features').show(5,truncate=False)"
   ]
  },
  {
   "cell_type": "code",
   "execution_count": 77,
   "id": "e7bc4463-d5d4-453c-8e5e-5d117e2d3dec",
   "metadata": {},
   "outputs": [],
   "source": [
    "# creating an objet called Data that contains the features and output\n",
    "from pyspark.sql.functions import col\n",
    "data=ml_df_trans.select(\n",
    "    col(\"vectorAssembler_features\").alias(\"features\"),\n",
    "    col(\"output\").alias(\"label\")\n",
    ")"
   ]
  },
  {
   "cell_type": "code",
   "execution_count": 78,
   "id": "f86bb358-ee52-45fc-8c4e-fa9af0e2ec8f",
   "metadata": {},
   "outputs": [
    {
     "name": "stdout",
     "output_type": "stream",
     "text": [
      "+-------------------------------------------------------------------+-----+\n",
      "|features                                                           |label|\n",
      "+-------------------------------------------------------------------+-----+\n",
      "|(333,[0,1,2,7,34,103,110,241],[2024.0,3.0,2.0,1.0,1.0,1.0,1.0,1.0])|0    |\n",
      "|(333,[0,1,2,7,66,99,226,266],[2024.0,3.0,2.0,1.0,1.0,1.0,1.0,1.0]) |0    |\n",
      "|(333,[0,1,2,7,40,99,104,234],[2024.0,3.0,2.0,1.0,1.0,1.0,1.0,1.0]) |0    |\n",
      "|(333,[0,1,2,7,88,99,147,236],[2024.0,3.0,2.0,1.0,1.0,1.0,1.0,1.0]) |0    |\n",
      "|(333,[0,1,2,7,50,103,141,255],[2024.0,3.0,2.0,1.0,1.0,1.0,1.0,1.0])|0    |\n",
      "+-------------------------------------------------------------------+-----+\n",
      "only showing top 5 rows\n",
      "\n"
     ]
    }
   ],
   "source": [
    "# Casting the datatype of output column as Integer\n",
    "data_df=data.selectExpr(\"features\",\"cast(label as int) label\")\n",
    "data_df.show(5,truncate=False)"
   ]
  },
  {
   "cell_type": "code",
   "execution_count": 79,
   "id": "a91ef8e2-edd4-4273-84d7-f340dee92dd5",
   "metadata": {},
   "outputs": [
    {
     "name": "stdout",
     "output_type": "stream",
     "text": [
      "root\n",
      " |-- features: vector (nullable = true)\n",
      " |-- label: integer (nullable = true)\n",
      "\n"
     ]
    }
   ],
   "source": [
    "# Printing the schema of the data frame on which the ML model will be built\n",
    "data_df.printSchema()"
   ]
  },
  {
   "cell_type": "markdown",
   "id": "e48b3dba-c9dc-44c5-8194-a616daaec262",
   "metadata": {},
   "source": [
    "### Building a Logistic Regression Model"
   ]
  },
  {
   "cell_type": "code",
   "execution_count": 80,
   "id": "7b770a4b-6ef5-4ddb-8002-2e7165f42da7",
   "metadata": {},
   "outputs": [],
   "source": [
    "# Split the dataset into Test and Train sets based on 30:70 ratio\n",
    "test_df, train_df = data_df.randomSplit([0.3, 0.7])"
   ]
  },
  {
   "cell_type": "code",
   "execution_count": 81,
   "id": "d1e5ba2b-6972-4a26-b4cf-f1624e98eaa0",
   "metadata": {},
   "outputs": [],
   "source": [
    "# Creating a Logistic regression object\n",
    "lr=LogisticRegression(maxIter=10, regParam= 0.01)"
   ]
  },
  {
   "cell_type": "code",
   "execution_count": 82,
   "id": "1625ec14-4bd4-466f-a2d8-6f8316d93dde",
   "metadata": {},
   "outputs": [
    {
     "name": "stderr",
     "output_type": "stream",
     "text": [
      "                                                                                \r"
     ]
    },
    {
     "data": {
      "text/plain": [
       "0.9918388166284111"
      ]
     },
     "execution_count": 82,
     "metadata": {},
     "output_type": "execute_result"
    }
   ],
   "source": [
    "# Training the Logistic regression Model using the tran dataset\n",
    "model=lr.fit(train_df)\n",
    "# Creating an object for the Model summary\n",
    "trainingSummary = model.summary\n",
    "# Printing the Model accuracy\n",
    "trainingSummary.accuracy"
   ]
  },
  {
   "cell_type": "code",
   "execution_count": 83,
   "id": "74433c2a-e780-41f7-bf2a-be22c70a0ffe",
   "metadata": {},
   "outputs": [
    {
     "name": "stdout",
     "output_type": "stream",
     "text": [
      "+------------------------------------------------------------------+-----+----------------------------------------+------------------------------------------+----------+\n",
      "|features                                                          |label|rawPrediction                           |probability                               |prediction|\n",
      "+------------------------------------------------------------------+-----+----------------------------------------+------------------------------------------+----------+\n",
      "|(333,[0,1,2,5,14,95,113,246],[2024.0,3.0,2.0,1.0,1.0,1.0,1.0,1.0])|0    |[6.6549711900460915,-6.6549711900460915]|[0.998714050556637,0.0012859494433630214] |0.0       |\n",
      "|(333,[0,1,2,5,14,95,119,262],[2024.0,3.0,2.0,1.0,1.0,1.0,1.0,1.0])|0    |[6.647070912240843,-6.647070912240843]  |[0.9987038641820852,0.0012961358179147675]|0.0       |\n",
      "|(333,[0,1,2,5,14,95,119,262],[2024.0,3.0,2.0,1.0,1.0,1.0,1.0,1.0])|0    |[6.647070912240843,-6.647070912240843]  |[0.9987038641820852,0.0012961358179147675]|0.0       |\n",
      "|(333,[0,1,2,5,14,95,119,262],[2024.0,3.0,2.0,1.0,1.0,1.0,1.0,1.0])|0    |[6.647070912240843,-6.647070912240843]  |[0.9987038641820852,0.0012961358179147675]|0.0       |\n",
      "|(333,[0,1,2,5,14,95,119,262],[2024.0,3.0,2.0,1.0,1.0,1.0,1.0,1.0])|0    |[6.647070912240843,-6.647070912240843]  |[0.9987038641820852,0.0012961358179147675]|0.0       |\n",
      "|(333,[0,1,2,5,14,95,119,262],[2024.0,3.0,2.0,1.0,1.0,1.0,1.0,1.0])|0    |[6.647070912240843,-6.647070912240843]  |[0.9987038641820852,0.0012961358179147675]|0.0       |\n",
      "|(333,[0,1,2,5,14,95,119,262],[2024.0,3.0,2.0,1.0,1.0,1.0,1.0,1.0])|0    |[6.647070912240843,-6.647070912240843]  |[0.9987038641820852,0.0012961358179147675]|0.0       |\n",
      "|(333,[0,1,2,5,14,95,122,242],[2024.0,3.0,2.0,1.0,1.0,1.0,1.0,1.0])|0    |[6.260989814017458,-6.260989814017458]  |[0.998094283734097,0.001905716265902968]  |0.0       |\n",
      "|(333,[0,1,2,5,14,95,132,236],[2024.0,3.0,2.0,1.0,1.0,1.0,1.0,1.0])|0    |[6.509372155971109,-6.509372155971109]  |[0.9985128005069654,0.0014871994930345522]|0.0       |\n",
      "|(333,[0,1,2,5,14,95,135,273],[2024.0,3.0,2.0,1.0,1.0,1.0,1.0,1.0])|0    |[2.7208323214250836,-2.7208323214250836]|[0.9382447772954524,0.061755222704547585] |0.0       |\n",
      "|(333,[0,1,2,5,14,95,148,266],[2024.0,3.0,2.0,1.0,1.0,1.0,1.0,1.0])|0    |[6.368376252858188,-6.368376252858188]  |[0.9982879943920949,0.001712005607905076] |0.0       |\n",
      "|(333,[0,1,2,5,14,95,148,266],[2024.0,3.0,2.0,1.0,1.0,1.0,1.0,1.0])|0    |[6.368376252858188,-6.368376252858188]  |[0.9982879943920949,0.001712005607905076] |0.0       |\n",
      "|(333,[0,1,2,5,14,95,148,266],[2024.0,3.0,2.0,1.0,1.0,1.0,1.0,1.0])|0    |[6.368376252858188,-6.368376252858188]  |[0.9982879943920949,0.001712005607905076] |0.0       |\n",
      "|(333,[0,1,2,5,14,95,159,289],[2024.0,3.0,2.0,1.0,1.0,1.0,1.0,1.0])|0    |[6.708378449165139,-6.708378449165139]  |[0.9987808462965453,0.0012191537034547117]|0.0       |\n",
      "|(333,[0,1,2,5,14,95,164,291],[2024.0,3.0,2.0,1.0,1.0,1.0,1.0,1.0])|0    |[6.80900647711315,-6.80900647711315]    |[0.9988974280118282,0.0011025719881717633]|0.0       |\n",
      "|(333,[0,1,2,5,14,95,168,296],[2024.0,3.0,2.0,1.0,1.0,1.0,1.0,1.0])|0    |[6.6069336836768136,-6.6069336836768136]|[0.9986508543520537,0.0013491456479463038]|0.0       |\n",
      "|(333,[0,1,2,5,20,97,105,238],[2024.0,3.0,2.0,1.0,1.0,1.0,1.0,1.0])|0    |[0.9753255912981977,-0.9753255912981977]|[0.7261797274911406,0.27382027250885943]  |0.0       |\n",
      "|(333,[0,1,2,5,20,97,142,277],[2024.0,3.0,2.0,1.0,1.0,1.0,1.0,1.0])|0    |[5.040688755664033,-5.040688755664033]  |[0.993572291693009,0.00642770830699102]   |0.0       |\n",
      "|(333,[0,1,2,5,20,97,142,277],[2024.0,3.0,2.0,1.0,1.0,1.0,1.0,1.0])|0    |[5.040688755664033,-5.040688755664033]  |[0.993572291693009,0.00642770830699102]   |0.0       |\n",
      "|(333,[0,1,2,5,20,97,142,277],[2024.0,3.0,2.0,1.0,1.0,1.0,1.0,1.0])|0    |[5.040688755664033,-5.040688755664033]  |[0.993572291693009,0.00642770830699102]   |0.0       |\n",
      "+------------------------------------------------------------------+-----+----------------------------------------+------------------------------------------+----------+\n",
      "only showing top 20 rows\n",
      "\n"
     ]
    }
   ],
   "source": [
    "# Creating an object to store the Model predictions\n",
    "predictions = model.transform(test_df)\n",
    "# Printing sample rows from the predictions\n",
    "#predictions.select(\"prediction\",\"label\",\"features\").show(10)\n",
    "predictions.show(truncate=False)"
   ]
  },
  {
   "cell_type": "code",
   "execution_count": 84,
   "id": "9eadd0d2-da65-4e05-835a-30ee468c4faa",
   "metadata": {},
   "outputs": [
    {
     "data": {
      "text/plain": [
       "0.9954643428114651"
      ]
     },
     "execution_count": 84,
     "metadata": {},
     "output_type": "execute_result"
    }
   ],
   "source": [
    "# Printing the percent of area under the ROC curve\n",
    "model.summary.areaUnderROC"
   ]
  },
  {
   "cell_type": "code",
   "execution_count": 85,
   "id": "603f9fb8-6c0c-47ce-89ca-984aa9a0c42e",
   "metadata": {},
   "outputs": [
    {
     "name": "stdout",
     "output_type": "stream",
     "text": [
      "+------------------+-------------------+\n",
      "|            recall|          precision|\n",
      "+------------------+-------------------+\n",
      "|               0.0|                0.0|\n",
      "|               0.0|                0.0|\n",
      "|               0.0|                0.0|\n",
      "|0.1111111111111111| 0.6666666666666666|\n",
      "|0.1111111111111111| 0.5714285714285714|\n",
      "|              0.25| 0.6428571428571429|\n",
      "|0.3055555555555556| 0.6470588235294118|\n",
      "|0.3888888888888889| 0.6086956521739131|\n",
      "|0.4444444444444444|               0.64|\n",
      "|0.4444444444444444| 0.6153846153846154|\n",
      "|0.5833333333333334| 0.6176470588235294|\n",
      "|0.7222222222222222| 0.5777777777777777|\n",
      "|0.7222222222222222| 0.5416666666666666|\n",
      "|0.7222222222222222|               0.52|\n",
      "|0.7222222222222222| 0.5098039215686274|\n",
      "|              0.75|                0.5|\n",
      "|0.8611111111111112|                0.5|\n",
      "|0.8888888888888888|0.47761194029850745|\n",
      "|0.8888888888888888|  0.463768115942029|\n",
      "|0.8888888888888888| 0.4507042253521127|\n",
      "+------------------+-------------------+\n",
      "only showing top 20 rows\n",
      "\n"
     ]
    }
   ],
   "source": [
    "# Printing Sample Recall and Precision of the MOdel predictions\n",
    "model.summary.pr.show()"
   ]
  },
  {
   "cell_type": "code",
   "execution_count": 86,
   "id": "4e05b7b8-e82b-476e-8865-e2487a5beb4f",
   "metadata": {},
   "outputs": [
    {
     "data": {
      "text/plain": [
       "1669"
      ]
     },
     "execution_count": 86,
     "metadata": {},
     "output_type": "execute_result"
    }
   ],
   "source": [
    "predictions.count()"
   ]
  },
  {
   "cell_type": "markdown",
   "id": "d403bca8-94b5-4d17-8f46-c508c8602842",
   "metadata": {},
   "source": [
    "### Storing Model results in HDFS and querying using Hive"
   ]
  },
  {
   "cell_type": "code",
   "execution_count": 87,
   "id": "63c50db6-af77-4575-adb6-70647eb3283f",
   "metadata": {},
   "outputs": [
    {
     "name": "stdout",
     "output_type": "stream",
     "text": [
      "Deleted /model_results\n"
     ]
    },
    {
     "name": "stderr",
     "output_type": "stream",
     "text": [
      "                                                                                \r"
     ]
    }
   ],
   "source": [
    "# Saving the dataframe data in HDFS in parquet format\n",
    "!hdfs dfs -rm -R -skipTrash /model_results\n",
    "predictions.write.format(\"parquet\").save(\"/model_results/\")"
   ]
  },
  {
   "cell_type": "code",
   "execution_count": 88,
   "id": "fb88aaad-f566-4175-b018-807b75079db5",
   "metadata": {},
   "outputs": [
    {
     "name": "stdout",
     "output_type": "stream",
     "text": [
      "Found 3 items\n",
      "-rw-r--r--   1 guruprasadvk10 supergroup          0 2024-03-02 19:22 /model_results/_SUCCESS\n",
      "-rw-r--r--   1 guruprasadvk10 supergroup      50083 2024-03-02 19:22 /model_results/part-00000-9b06e66e-5e3c-4a3a-8e51-dd7b77835a7c-c000.snappy.parquet\n",
      "-rw-r--r--   1 guruprasadvk10 supergroup      50265 2024-03-02 19:22 /model_results/part-00001-9b06e66e-5e3c-4a3a-8e51-dd7b77835a7c-c000.snappy.parquet\n"
     ]
    }
   ],
   "source": [
    "# CHecking the contents of HDFS path\n",
    "!hdfs dfs -ls /model_results"
   ]
  },
  {
   "cell_type": "code",
   "execution_count": 89,
   "id": "d95a75d4-8c9e-485d-b35e-5eb6e10812ce",
   "metadata": {},
   "outputs": [
    {
     "data": {
      "text/html": [
       "<table border='1'>\n",
       "<tr><th></th></tr>\n",
       "</table>\n"
      ],
      "text/plain": [
       "++\n",
       "||\n",
       "++\n",
       "++"
      ]
     },
     "execution_count": 89,
     "metadata": {},
     "output_type": "execute_result"
    }
   ],
   "source": [
    "# Dropping the hive table if it already exists\n",
    "spark.sql(\"use cta_db\")\n",
    "spark.sql(\"DROP TABLE IF EXISTS prediction_results;\")"
   ]
  },
  {
   "cell_type": "code",
   "execution_count": 90,
   "id": "54d1578e-e121-4085-b102-6cfbc1c2bc59",
   "metadata": {},
   "outputs": [
    {
     "data": {
      "text/html": [
       "<table border='1'>\n",
       "<tr><th>count(1)</th></tr>\n",
       "<tr><td>1669</td></tr>\n",
       "</table>\n"
      ],
      "text/plain": [
       "+--------+\n",
       "|count(1)|\n",
       "+--------+\n",
       "|    1669|\n",
       "+--------+"
      ]
     },
     "execution_count": 90,
     "metadata": {},
     "output_type": "execute_result"
    }
   ],
   "source": [
    "spark.sql(\"CREATE EXTERNAL TABLE prediction_results( features STRING) STORED AS PARQUET LOCATION '/model_results/';\")\n",
    "# Selecting count of rows \n",
    "spark.sql(\"SELECT count(1) FROM prediction_results;\")"
   ]
  },
  {
   "cell_type": "code",
   "execution_count": null,
   "id": "c5eda6ba-08a3-4cb6-8127-3e215fa3fd3a",
   "metadata": {},
   "outputs": [],
   "source": []
  }
 ],
 "metadata": {
  "kernelspec": {
   "display_name": "Pyspark 3",
   "language": "python",
   "name": "pyspark3"
  },
  "language_info": {
   "codemirror_mode": {
    "name": "ipython",
    "version": 3
   },
   "file_extension": ".py",
   "mimetype": "text/x-python",
   "name": "python",
   "nbconvert_exporter": "python",
   "pygments_lexer": "ipython3",
   "version": "3.8.10"
  }
 },
 "nbformat": 4,
 "nbformat_minor": 5
}
